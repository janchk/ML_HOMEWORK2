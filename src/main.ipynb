{
 "cells": [
  {
   "cell_type": "code",
   "execution_count": 5,
   "metadata": {},
   "outputs": [
    {
     "name": "stdout",
     "output_type": "stream",
     "text": [
      "Cloning into 'ML_HOMEWORK2'...\n",
      "remote: Enumerating objects: 45, done.\u001b[K\n",
      "remote: Counting objects: 100% (45/45), done.\u001b[K\n",
      "remote: Compressing objects: 100% (33/33), done.\u001b[K\n",
      "remote: Total 45 (delta 18), reused 36 (delta 11), pack-reused 0\u001b[K\n",
      "Unpacking objects: 100% (45/45), done.\n"
     ]
    }
   ],
   "source": [
    "!git clone https://github.com/janchk/ML_HOMEWORK2"
   ]
  },
  {
   "cell_type": "code",
   "execution_count": 6,
   "metadata": {},
   "outputs": [
    {
     "name": "stdout",
     "output_type": "stream",
     "text": [
      "--2020-01-27 13:52:15--  https://storage.googleapis.com/kaggle-data-sets/1636/792972/compressed/combined_data_1.txt.zip?GoogleAccessId=web-data@kaggle-161607.iam.gserviceaccount.com&Expires=1580381087&Signature=CUdVUOa99IF8sGlKPe1qNSSonsPMSmTPpWBmdV86%2BY5L0S6bb8Ee32j%2B49Ld%2BuQL5IurTyD5SpYLV6DdnAK9ZAeBItx7REyLshI6F6OHw0BOf96tfKuaWUfPwJjDotS8yzL1Uky7qks%2F1j1hEVDqdu3yMtg1q68HgKpcMPCuLNiXM3gScBpPIflq%2BNfuzyLFcIb4tj9sCUr4XtFbMHtvNy8NYr3Bh30smG7j%2FF0p4phMT0mVdFR3mo8nWgXCvku1tuFodPCsr15uieoWk28WbysnWv3wOuj%2FRE4%2BpAmEOcvyRm9UEHlqIGNViW%2BsoAQPsBUkv0DcYY1A0FBtAVsevg%3D%3D&response-content-disposition=attachment%3B+filename%3Dcombined_data_1.txt.zip\n",
      "Resolving storage.googleapis.com (storage.googleapis.com)... 209.85.233.128\n",
      "Connecting to storage.googleapis.com (storage.googleapis.com)|209.85.233.128|:443... connected.\n",
      "HTTP request sent, awaiting response... 200 OK\n",
      "Length: 165930757 (158M) [application/zip]\n",
      "Saving to: ‘combined_data_1.txt.zip’\n",
      "\n",
      "combined_data_1.txt 100%[===================>] 158,24M  10,8MB/s    in 15s     \n",
      "\n",
      "2020-01-27 13:52:30 (10,8 MB/s) - ‘combined_data_1.txt.zip’ saved [165930757/165930757]\n",
      "\n",
      "Archive:  combined_data_1.txt.zip\n",
      "  inflating: combined_data_1.txt     \n"
     ]
    }
   ],
   "source": [
    "!wget --header=\"Host: storage.googleapis.com\" --header=\"User-Agent: Mozilla/5.0 (X11; Linux x86_64) AppleWebKit/537.36 (KHTML, like Gecko) Ubuntu Chromium/79.0.3945.79 Chrome/79.0.3945.79 Safari/537.36\" --header=\"Accept: text/html,application/xhtml+xml,application/xml;q=0.9,image/webp,image/apng,*/*;q=0.8,application/signed-exchange;v=b3;q=0.9\" --header=\"Accept-Language: ru-RU,ru;q=0.9,en-US;q=0.8,en;q=0.7\" --header=\"Referer: https://www.kaggle.com/\" \"https://storage.googleapis.com/kaggle-data-sets/1636/792972/compressed/combined_data_1.txt.zip?GoogleAccessId=web-data@kaggle-161607.iam.gserviceaccount.com&Expires=1580381087&Signature=CUdVUOa99IF8sGlKPe1qNSSonsPMSmTPpWBmdV86%2BY5L0S6bb8Ee32j%2B49Ld%2BuQL5IurTyD5SpYLV6DdnAK9ZAeBItx7REyLshI6F6OHw0BOf96tfKuaWUfPwJjDotS8yzL1Uky7qks%2F1j1hEVDqdu3yMtg1q68HgKpcMPCuLNiXM3gScBpPIflq%2BNfuzyLFcIb4tj9sCUr4XtFbMHtvNy8NYr3Bh30smG7j%2FF0p4phMT0mVdFR3mo8nWgXCvku1tuFodPCsr15uieoWk28WbysnWv3wOuj%2FRE4%2BpAmEOcvyRm9UEHlqIGNViW%2BsoAQPsBUkv0DcYY1A0FBtAVsevg%3D%3D&response-content-disposition=attachment%3B+filename%3Dcombined_data_1.txt.zip\" -O \"combined_data_1.txt.zip\" -c\n",
    "!unzip combined_data_1.txt.zip"
   ]
  },
  {
   "cell_type": "code",
   "execution_count": 8,
   "metadata": {
    "pycharm": {
     "is_executing": false,
     "name": "#%%\n"
    }
   },
   "outputs": [],
   "source": [
    "from __future__ import print_function\n",
    "\n",
    "from ML_HOMEWORK2.src.utils import DataProcessing\n",
    "from ML_HOMEWORK2.src.core import FactorisationMachine\n",
    "\n",
    "import os"
   ]
  },
  {
   "cell_type": "code",
   "execution_count": 2,
   "metadata": {
    "pycharm": {
     "is_executing": false,
     "name": "#%%\n"
    }
   },
   "outputs": [],
   "source": [
    "data_path = \"combined_data_1.txt\"\n",
    "data_processor = DataProcessing(data_path)\n",
    "batch_size = 100000\n"
   ]
  },
  {
   "cell_type": "code",
   "execution_count": 3,
   "metadata": {
    "pycharm": {
     "is_executing": false,
     "name": "#%%\n"
    }
   },
   "outputs": [
    {
     "name": "stderr",
     "output_type": "stream",
     "text": [
      "/home/jakhremchik/PycharmProjects/ML_HOMEWHORK2/venv/lib/python3.6/site-packages/numpy/lib/arraysetops.py:568: FutureWarning: elementwise comparison failed; returning scalar instead, but in the future will perform elementwise comparison\n",
      "  mask |= (ar1 == a)\n"
     ]
    }
   ],
   "source": [
    "processed_fname = \"processed_data.csv\"\n",
    "if not os.path.exists(processed_fname):\n",
    "    data_processor.preprocess_data()\n",
    "    data_processor.save_data('processed_data.csv')\n",
    "else:\n",
    "    data_processor.load_data(processed_fname)\n",
    "fm = FactorisationMachine()\n",
    "\n",
    "data_shape = data_processor.get_data_shape()\n",
    "\n"
   ]
  },
  {
   "cell_type": "code",
   "execution_count": 4,
   "metadata": {
    "pycharm": {
     "is_executing": false,
     "name": "#%%\n"
    }
   },
   "outputs": [
    {
     "name": "stdout",
     "output_type": "stream",
     "text": [
      "fold number 0\n",
      "EPOCH : 0\n",
      "Average R2 :-0.13722744554889382\n",
      "Average RMSE : 1.1228440180548964 \n",
      "EPOCH : 1\n",
      "Average R2 :-0.0460235292614925\n",
      "Average RMSE : 1.0743255975713186 \n",
      "EPOCH : 2\n",
      "Average R2 :-0.03925666891563414\n",
      "Average RMSE : 1.0705631806586116 \n",
      "EPOCH : 3\n",
      "Average R2 :-0.03385489579235121\n",
      "Average RMSE : 1.067997021323254 \n",
      "EPOCH : 4\n",
      "Average R2 :-0.028718337932371843\n",
      "Average RMSE : 1.0656134141959446 \n",
      "EPOCH : 5\n",
      "Average R2 :-0.0239485341804027\n",
      "Average RMSE : 1.063395695843758 \n",
      "EPOCH : 6\n",
      "Average R2 :-0.01953756686845458\n",
      "Average RMSE : 1.0613327206023897 \n",
      "EPOCH : 7\n",
      "Average R2 :-0.015455885201803868\n",
      "Average RMSE : 1.0594113737323299 \n",
      "EPOCH : 8\n",
      "Average R2 :-0.011673295291145145\n",
      "Average RMSE : 1.057619228356438 \n",
      "EPOCH : 9\n",
      "Average R2 :-0.008162124545386458\n",
      "Average RMSE : 1.0559449687674507 \n",
      "TEST: MSE is: 1.1135448399003147, R2 is: -0.0006651078130828214\n",
      "fold number 1\n",
      "EPOCH : 0\n",
      "Average R2 :-0.13721742038265497\n",
      "Average RMSE : 1.120618552488734 \n",
      "EPOCH : 1\n",
      "Average R2 :-0.046278005069852725\n",
      "Average RMSE : 1.0726728302798396 \n",
      "EPOCH : 2\n",
      "Average R2 :-0.039664249885454486\n",
      "Average RMSE : 1.0690823458669214 \n",
      "EPOCH : 3\n",
      "Average R2 :-0.03445936029677678\n",
      "Average RMSE : 1.0666389568915542 \n",
      "EPOCH : 4\n",
      "Average R2 :-0.029514454595837514\n",
      "Average RMSE : 1.064364335105804 \n",
      "EPOCH : 5\n",
      "Average R2 :-0.024923094261852456\n",
      "Average RMSE : 1.0622472632692985 \n",
      "EPOCH : 6\n",
      "Average R2 :-0.020677277807308575\n",
      "Average RMSE : 1.0602779328315453 \n",
      "EPOCH : 7\n",
      "Average R2 :-0.016748520078376575\n",
      "Average RMSE : 1.0584439179156369 \n",
      "EPOCH : 8\n",
      "Average R2 :-0.013107756556510091\n",
      "Average RMSE : 1.0567333384494588 \n",
      "EPOCH : 9\n",
      "Average R2 :-0.009728348735664964\n",
      "Average RMSE : 1.0551353619376598 \n",
      "TEST: MSE is: 1.1294442551815733, R2 is: 0.0002664702144936637\n",
      "fold number 2\n",
      "EPOCH : 0\n",
      "Average R2 :-0.13197889256960743\n",
      "Average RMSE : 1.1187905141159213 \n",
      "EPOCH : 1\n",
      "Average R2 :-0.040468986248246915\n",
      "Average RMSE : 1.0705680827555788 \n",
      "EPOCH : 2\n",
      "Average R2 :-0.03475821619952528\n",
      "Average RMSE : 1.067409934190183 \n",
      "EPOCH : 3\n",
      "Average R2 :-0.030478335152971416\n",
      "Average RMSE : 1.0653960857664087 \n",
      "EPOCH : 4\n",
      "Average R2 :-0.026370450683537165\n",
      "Average RMSE : 1.063510518547282 \n",
      "EPOCH : 5\n",
      "Average R2 :-0.02252585407143727\n",
      "Average RMSE : 1.0617429284701654 \n",
      "EPOCH : 6\n",
      "Average R2 :-0.018945365797070984\n",
      "Average RMSE : 1.0600874395545707 \n",
      "EPOCH : 7\n",
      "Average R2 :-0.015609681954680625\n",
      "Average RMSE : 1.0585354865637104 \n",
      "EPOCH : 8\n",
      "Average R2 :-0.012498011212487625\n",
      "Average RMSE : 1.0570786607357816 \n",
      "EPOCH : 9\n",
      "Average R2 :-0.00959102689233141\n",
      "Average RMSE : 1.0557092141822855 \n",
      "TEST: MSE is: 1.1532830113119301, R2 is: 0.0010557147173756443\n",
      "fold number 3\n",
      "EPOCH : 0\n",
      "Average R2 :-0.1349578909160409\n",
      "Average RMSE : 1.1146013960845516 \n",
      "EPOCH : 1\n",
      "Average R2 :-0.04467301838059465\n",
      "Average RMSE : 1.0669927517861533 \n",
      "EPOCH : 2\n",
      "Average R2 :-0.03821425609794745\n",
      "Average RMSE : 1.0634829356465982 \n",
      "EPOCH : 3\n",
      "Average R2 :-0.033354383249212194\n",
      "Average RMSE : 1.0611994284994697 \n",
      "EPOCH : 4\n",
      "Average R2 :-0.02876092542847112\n",
      "Average RMSE : 1.0590877385895376 \n",
      "EPOCH : 5\n",
      "Average R2 :-0.024495242764165107\n",
      "Average RMSE : 1.0571229224333152 \n",
      "EPOCH : 6\n",
      "Average R2 :-0.020546810783133286\n",
      "Average RMSE : 1.0552939789441025 \n",
      "EPOCH : 7\n",
      "Average R2 :-0.016889018547489903\n",
      "Average RMSE : 1.0535891764281922 \n",
      "EPOCH : 8\n",
      "Average R2 :-0.013495128108717674\n",
      "Average RMSE : 1.0519975406566784 \n",
      "EPOCH : 9\n",
      "Average R2 :-0.010340704390307901\n",
      "Average RMSE : 1.0505091086261165 \n",
      "TEST: MSE is: 1.179035433954906, R2 is: 0.002093731465423021\n",
      "fold number 4\n",
      "EPOCH : 0\n",
      "Average R2 :-0.13322965817903135\n",
      "Average RMSE : 1.1165521091984205 \n",
      "EPOCH : 1\n",
      "Average R2 :-0.04319603630518169\n",
      "Average RMSE : 1.0693186869578255 \n",
      "EPOCH : 2\n",
      "Average R2 :-0.037312739147361655\n",
      "Average RMSE : 1.0660128942914224 \n",
      "EPOCH : 3\n",
      "Average R2 :-0.03297150822501666\n",
      "Average RMSE : 1.0638728230527421 \n",
      "EPOCH : 4\n",
      "Average R2 :-0.02882986577290145\n",
      "Average RMSE : 1.0618784492916518 \n",
      "EPOCH : 5\n",
      "Average R2 :-0.024954650547123265\n",
      "Average RMSE : 1.0600119132912287 \n",
      "EPOCH : 6\n",
      "Average R2 :-0.02134208038300998\n",
      "Average RMSE : 1.0582650067895691 \n",
      "EPOCH : 7\n",
      "Average R2 :-0.017971965588237618\n",
      "Average RMSE : 1.0566280461169943 \n",
      "EPOCH : 8\n",
      "Average R2 :-0.01482335527923912\n",
      "Average RMSE : 1.0550918282139958 \n",
      "EPOCH : 9\n",
      "Average R2 :-0.011876957848956341\n",
      "Average RMSE : 1.05364795684035 \n",
      "TEST: MSE is: 1.1564147773933868, R2 is: 0.0007806063143098729\n"
     ]
    }
   ],
   "source": [
    "for f_num, fold in enumerate(data_processor.get_fold(5)):\n",
    "    print(\"fold number {}\".format(f_num))\n",
    "\n",
    "    # tr_mse, tr_loss = 0, 0\n",
    "    (X_train, X_test), (y_train, y_test) = fold\n",
    "    fm.fit(data_shape, data_processor.get_batch(batch_size, X_train, y_train), 10)\n",
    "\n",
    "\n",
    "    # Predict time\n",
    "    y_pred = fm.predict(X_test)\n",
    "    y_gt = y_test\n",
    "    r2, rmse = fm.statistics.get_statistics(y_gt, y_pred)\n",
    "    print(\"TEST: RMSE is: {}\".format(rmse))\n",
    "\n"
   ]
  }
 ],
 "metadata": {
  "kernelspec": {
   "display_name": "Python 3",
   "language": "python",
   "name": "python3"
  },
  "language_info": {
   "codemirror_mode": {
    "name": "ipython",
    "version": 3
   },
   "file_extension": ".py",
   "mimetype": "text/x-python",
   "name": "python",
   "nbconvert_exporter": "python",
   "pygments_lexer": "ipython3",
   "version": "3.6.9"
  },
  "pycharm": {
   "stem_cell": {
    "cell_type": "raw",
    "source": [],
    "metadata": {
     "collapsed": false
    }
   }
  }
 },
 "nbformat": 4,
 "nbformat_minor": 1
}