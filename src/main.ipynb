{
 "cells": [
  {
   "cell_type": "code",
   "execution_count": null,
   "metadata": {
    "collapsed": true,
    "pycharm": {
     "name": "#%%\n"
    }
   },
   "outputs": [],
   "source": [
    "from __future__ import print_function\n",
    "\n",
    "from utils import DataProcessing\n",
    "from core import FactorisationMachine\n",
    "\n",
    "import os"
   ]
  },
  {
   "cell_type": "code",
   "execution_count": null,
   "outputs": [],
   "source": [
    "data_path = \"../data/combined_data_1.txt\"\n",
    "data_processor = DataProcessing(data_path)\n",
    "batch_size = 100000\n"
   ],
   "metadata": {
    "collapsed": false,
    "pycharm": {
     "name": "#%%\n"
    }
   }
  },
  {
   "cell_type": "code",
   "execution_count": null,
   "outputs": [],
   "source": [
    "processed_fname = \"processed_data.csv\"\n",
    "if not os.path.exists(processed_fname):\n",
    "    data_processor.preprocess_data()\n",
    "    data_processor.save_data('processed_data.csv')\n",
    "else:\n",
    "    data_processor.load_data(processed_fname)\n",
    "fm = FactorisationMachine()\n",
    "\n",
    "data_shape = data_processor.get_data_shape()\n",
    "\n"
   ],
   "metadata": {
    "collapsed": false,
    "pycharm": {
     "name": "#%%\n"
    }
   }
  },
  {
   "cell_type": "code",
   "execution_count": null,
   "outputs": [],
   "source": [
    "for f_num, fold in enumerate(data_processor.get_fold(5)):\n",
    "    print(\"fold number {}\".format(f_num))\n",
    "\n",
    "    # tr_mse, tr_loss = 0, 0\n",
    "    (X_train, X_test), (y_train, y_test) = fold\n",
    "    fm.fit(data_shape, data_processor.get_batch(batch_size, X_train, y_train), 10)\n",
    "\n",
    "\n",
    "    # Predict time\n",
    "    y_pred = fm.predict(X_test)\n",
    "    y_gt = y_test\n",
    "    r2, mse = fm.statistics.get_statistics(y_gt, y_pred)\n",
    "    print(\"TEST: MSE is: {}, R2 is: {}\".format(mse, r2))\n",
    "\n"
   ],
   "metadata": {
    "collapsed": false,
    "pycharm": {
     "name": "#%%\n"
    }
   }
  }
 ],
 "metadata": {
  "kernelspec": {
   "display_name": "Python 3",
   "language": "python",
   "name": "python3"
  },
  "language_info": {
   "codemirror_mode": {
    "name": "ipython",
    "version": 2
   },
   "file_extension": ".py",
   "mimetype": "text/x-python",
   "name": "python",
   "nbconvert_exporter": "python",
   "pygments_lexer": "ipython2",
   "version": "2.7.6"
  },
  "pycharm": {
   "stem_cell": {
    "cell_type": "raw",
    "source": [],
    "metadata": {
     "collapsed": false
    }
   }
  }
 },
 "nbformat": 4,
 "nbformat_minor": 0
}