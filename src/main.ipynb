{
 "cells": [
  {
   "cell_type": "code",
   "execution_count": 1,
   "metadata": {},
   "outputs": [
    {
     "name": "stdout",
     "output_type": "stream",
     "text": [
      "Cloning into 'ML_HOMEWORK2'...\n",
      "remote: Enumerating objects: 45, done.\u001b[K\n",
      "remote: Counting objects: 100% (45/45), done.\u001b[K\n",
      "remote: Compressing objects: 100% (33/33), done.\u001b[K\n",
      "remote: Total 45 (delta 18), reused 36 (delta 11), pack-reused 0\u001b[K\n",
      "Unpacking objects: 100% (45/45), done.\n"
     ]
    }
   ],
   "source": [
    "!git clone https://github.com/janchk/ML_HOMEWORK2"
   ]
  },
  {
   "cell_type": "code",
   "execution_count": 2,
   "metadata": {},
   "outputs": [
    {
     "name": "stdout",
     "output_type": "stream",
     "text": [
      "--2020-01-27 13:55:37--  https://storage.googleapis.com/kaggle-data-sets/1636/792972/compressed/combined_data_1.txt.zip?GoogleAccessId=web-data@kaggle-161607.iam.gserviceaccount.com&Expires=1580381087&Signature=CUdVUOa99IF8sGlKPe1qNSSonsPMSmTPpWBmdV86%2BY5L0S6bb8Ee32j%2B49Ld%2BuQL5IurTyD5SpYLV6DdnAK9ZAeBItx7REyLshI6F6OHw0BOf96tfKuaWUfPwJjDotS8yzL1Uky7qks%2F1j1hEVDqdu3yMtg1q68HgKpcMPCuLNiXM3gScBpPIflq%2BNfuzyLFcIb4tj9sCUr4XtFbMHtvNy8NYr3Bh30smG7j%2FF0p4phMT0mVdFR3mo8nWgXCvku1tuFodPCsr15uieoWk28WbysnWv3wOuj%2FRE4%2BpAmEOcvyRm9UEHlqIGNViW%2BsoAQPsBUkv0DcYY1A0FBtAVsevg%3D%3D&response-content-disposition=attachment%3B+filename%3Dcombined_data_1.txt.zip\n",
      "Resolving storage.googleapis.com (storage.googleapis.com)... 64.233.161.128\n",
      "Connecting to storage.googleapis.com (storage.googleapis.com)|64.233.161.128|:443... connected.\n",
      "HTTP request sent, awaiting response... 200 OK\n",
      "Length: 165930757 (158M) [application/zip]\n",
      "Saving to: ‘combined_data_1.txt.zip’\n",
      "\n",
      "combined_data_1.txt 100%[===================>] 158,24M  6,67MB/s    in 17s     \n",
      "\n",
      "2020-01-27 13:55:55 (9,24 MB/s) - ‘combined_data_1.txt.zip’ saved [165930757/165930757]\n",
      "\n",
      "Archive:  combined_data_1.txt.zip\n",
      "  inflating: combined_data_1.txt     \n"
     ]
    }
   ],
   "source": [
    "!wget --header=\"Host: storage.googleapis.com\" --header=\"User-Agent: Mozilla/5.0 (X11; Linux x86_64) AppleWebKit/537.36 (KHTML, like Gecko) Ubuntu Chromium/79.0.3945.79 Chrome/79.0.3945.79 Safari/537.36\" --header=\"Accept: text/html,application/xhtml+xml,application/xml;q=0.9,image/webp,image/apng,*/*;q=0.8,application/signed-exchange;v=b3;q=0.9\" --header=\"Accept-Language: ru-RU,ru;q=0.9,en-US;q=0.8,en;q=0.7\" --header=\"Referer: https://www.kaggle.com/\" \"https://storage.googleapis.com/kaggle-data-sets/1636/792972/compressed/combined_data_1.txt.zip?GoogleAccessId=web-data@kaggle-161607.iam.gserviceaccount.com&Expires=1580381087&Signature=CUdVUOa99IF8sGlKPe1qNSSonsPMSmTPpWBmdV86%2BY5L0S6bb8Ee32j%2B49Ld%2BuQL5IurTyD5SpYLV6DdnAK9ZAeBItx7REyLshI6F6OHw0BOf96tfKuaWUfPwJjDotS8yzL1Uky7qks%2F1j1hEVDqdu3yMtg1q68HgKpcMPCuLNiXM3gScBpPIflq%2BNfuzyLFcIb4tj9sCUr4XtFbMHtvNy8NYr3Bh30smG7j%2FF0p4phMT0mVdFR3mo8nWgXCvku1tuFodPCsr15uieoWk28WbysnWv3wOuj%2FRE4%2BpAmEOcvyRm9UEHlqIGNViW%2BsoAQPsBUkv0DcYY1A0FBtAVsevg%3D%3D&response-content-disposition=attachment%3B+filename%3Dcombined_data_1.txt.zip\" -O \"combined_data_1.txt.zip\" -c\n",
    "!unzip combined_data_1.txt.zip"
   ]
  },
  {
   "cell_type": "code",
   "execution_count": 3,
   "metadata": {
    "pycharm": {
     "is_executing": false,
     "name": "#%%\n"
    }
   },
   "outputs": [],
   "source": [
    "from __future__ import print_function\n",
    "\n",
    "from ML_HOMEWORK2.src.utils import DataProcessing\n",
    "from ML_HOMEWORK2.src.core import FactorisationMachine\n",
    "\n",
    "import os"
   ]
  },
  {
   "cell_type": "code",
   "execution_count": 4,
   "metadata": {
    "pycharm": {
     "is_executing": false,
     "name": "#%%\n"
    }
   },
   "outputs": [],
   "source": [
    "data_path = \"combined_data_1.txt\"\n",
    "data_processor = DataProcessing(data_path)\n",
    "batch_size = 100000\n"
   ]
  },
  {
   "cell_type": "code",
   "execution_count": 5,
   "metadata": {
    "pycharm": {
     "is_executing": false,
     "name": "#%%\n"
    }
   },
   "outputs": [
    {
     "name": "stderr",
     "output_type": "stream",
     "text": [
      "/home/jakhremchik/PycharmProjects/ML_HOMEWHORK2/venv/lib/python3.6/site-packages/numpy/lib/arraysetops.py:568: FutureWarning: elementwise comparison failed; returning scalar instead, but in the future will perform elementwise comparison\n",
      "  mask |= (ar1 == a)\n"
     ]
    }
   ],
   "source": [
    "processed_fname = \"processed_data.csv\"\n",
    "if not os.path.exists(processed_fname):\n",
    "    data_processor.preprocess_data()\n",
    "    data_processor.save_data('processed_data.csv')\n",
    "else:\n",
    "    data_processor.load_data(processed_fname)\n",
    "fm = FactorisationMachine()\n",
    "\n",
    "data_shape = data_processor.get_data_shape()\n",
    "\n"
   ]
  },
  {
   "cell_type": "code",
   "execution_count": 6,
   "metadata": {
    "pycharm": {
     "is_executing": false,
     "name": "#%%\n"
    }
   },
   "outputs": [
    {
     "name": "stdout",
     "output_type": "stream",
     "text": [
      "fold number 0\n",
      "EPOCH : 0\n",
      "Average R2 :-0.13722744554889382\n",
      "Average RMSE : 1.1228440180548964 \n",
      "EPOCH : 1\n",
      "Average R2 :-0.0460235292614925\n",
      "Average RMSE : 1.0743255975713186 \n",
      "EPOCH : 2\n",
      "Average R2 :-0.03925666891563414\n",
      "Average RMSE : 1.0705631806586116 \n",
      "EPOCH : 3\n",
      "Average R2 :-0.03385489579235121\n",
      "Average RMSE : 1.067997021323254 \n",
      "EPOCH : 4\n",
      "Average R2 :-0.028718337932371843\n",
      "Average RMSE : 1.0656134141959446 \n",
      "EPOCH : 5\n",
      "Average R2 :-0.0239485341804027\n",
      "Average RMSE : 1.063395695843758 \n",
      "EPOCH : 6\n",
      "Average R2 :-0.01953756686845458\n",
      "Average RMSE : 1.0613327206023897 \n",
      "EPOCH : 7\n",
      "Average R2 :-0.015455885201803868\n",
      "Average RMSE : 1.0594113737323299 \n",
      "EPOCH : 8\n",
      "Average R2 :-0.011673295291145145\n",
      "Average RMSE : 1.057619228356438 \n",
      "EPOCH : 9\n",
      "Average R2 :-0.008162124545386458\n",
      "Average RMSE : 1.0559449687674507 \n",
      "TEST: MSE is: 1.1135448399003147, R2 is: -0.0006651078130828214\n",
      "fold number 1\n",
      "EPOCH : 0\n",
      "Average R2 :-0.13721742038265497\n",
      "Average RMSE : 1.120618552488734 \n",
      "EPOCH : 1\n",
      "Average R2 :-0.046278005069852725\n",
      "Average RMSE : 1.0726728302798396 \n",
      "EPOCH : 2\n",
      "Average R2 :-0.039664249885454486\n",
      "Average RMSE : 1.0690823458669214 \n",
      "EPOCH : 3\n",
      "Average R2 :-0.03445936029677678\n",
      "Average RMSE : 1.0666389568915542 \n",
      "EPOCH : 4\n",
      "Average R2 :-0.029514454595837514\n",
      "Average RMSE : 1.064364335105804 \n",
      "EPOCH : 5\n"
     ]
    },
    {
     "ename": "KeyboardInterrupt",
     "evalue": "",
     "output_type": "error",
     "traceback": [
      "\u001b[0;31m---------------------------------------------------------------------------\u001b[0m",
      "\u001b[0;31mKeyboardInterrupt\u001b[0m                         Traceback (most recent call last)",
      "\u001b[0;32m<ipython-input-6-c81d138baa35>\u001b[0m in \u001b[0;36m<module>\u001b[0;34m\u001b[0m\n\u001b[1;32m      4\u001b[0m     \u001b[0;31m# tr_mse, tr_loss = 0, 0\u001b[0m\u001b[0;34m\u001b[0m\u001b[0;34m\u001b[0m\u001b[0;34m\u001b[0m\u001b[0m\n\u001b[1;32m      5\u001b[0m     \u001b[0;34m(\u001b[0m\u001b[0mX_train\u001b[0m\u001b[0;34m,\u001b[0m \u001b[0mX_test\u001b[0m\u001b[0;34m)\u001b[0m\u001b[0;34m,\u001b[0m \u001b[0;34m(\u001b[0m\u001b[0my_train\u001b[0m\u001b[0;34m,\u001b[0m \u001b[0my_test\u001b[0m\u001b[0;34m)\u001b[0m \u001b[0;34m=\u001b[0m \u001b[0mfold\u001b[0m\u001b[0;34m\u001b[0m\u001b[0;34m\u001b[0m\u001b[0m\n\u001b[0;32m----> 6\u001b[0;31m     \u001b[0mfm\u001b[0m\u001b[0;34m.\u001b[0m\u001b[0mfit\u001b[0m\u001b[0;34m(\u001b[0m\u001b[0mdata_shape\u001b[0m\u001b[0;34m,\u001b[0m \u001b[0mdata_processor\u001b[0m\u001b[0;34m.\u001b[0m\u001b[0mget_batch\u001b[0m\u001b[0;34m(\u001b[0m\u001b[0mbatch_size\u001b[0m\u001b[0;34m,\u001b[0m \u001b[0mX_train\u001b[0m\u001b[0;34m,\u001b[0m \u001b[0my_train\u001b[0m\u001b[0;34m)\u001b[0m\u001b[0;34m,\u001b[0m \u001b[0;36m10\u001b[0m\u001b[0;34m)\u001b[0m\u001b[0;34m\u001b[0m\u001b[0;34m\u001b[0m\u001b[0m\n\u001b[0m\u001b[1;32m      7\u001b[0m \u001b[0;34m\u001b[0m\u001b[0m\n\u001b[1;32m      8\u001b[0m \u001b[0;34m\u001b[0m\u001b[0m\n",
      "\u001b[0;32m~/PycharmProjects/ML_HOMEWHORK2/src/ML_HOMEWORK2/src/core.py\u001b[0m in \u001b[0;36mfit\u001b[0;34m(self, data_shape, data_generator, n_epoch, lr)\u001b[0m\n\u001b[1;32m     33\u001b[0m             \u001b[0mbatch_size\u001b[0m \u001b[0;34m=\u001b[0m \u001b[0;36m0\u001b[0m\u001b[0;34m\u001b[0m\u001b[0;34m\u001b[0m\u001b[0m\n\u001b[1;32m     34\u001b[0m             \u001b[0;32mfor\u001b[0m \u001b[0mi\u001b[0m\u001b[0;34m,\u001b[0m \u001b[0mbatch\u001b[0m \u001b[0;32min\u001b[0m \u001b[0menumerate\u001b[0m\u001b[0;34m(\u001b[0m\u001b[0mdata\u001b[0m\u001b[0;34m)\u001b[0m\u001b[0;34m:\u001b[0m\u001b[0;34m\u001b[0m\u001b[0;34m\u001b[0m\u001b[0m\n\u001b[0;32m---> 35\u001b[0;31m                 \u001b[0mself\u001b[0m\u001b[0;34m.\u001b[0m\u001b[0m__fit\u001b[0m\u001b[0;34m(\u001b[0m\u001b[0mX\u001b[0m\u001b[0;34m=\u001b[0m\u001b[0mbatch\u001b[0m\u001b[0;34m[\u001b[0m\u001b[0;36m0\u001b[0m\u001b[0;34m]\u001b[0m\u001b[0;34m,\u001b[0m \u001b[0my\u001b[0m\u001b[0;34m=\u001b[0m\u001b[0mbatch\u001b[0m\u001b[0;34m[\u001b[0m\u001b[0;36m1\u001b[0m\u001b[0;34m]\u001b[0m\u001b[0;34m,\u001b[0m  \u001b[0mlr\u001b[0m\u001b[0;34m=\u001b[0m\u001b[0mlr\u001b[0m\u001b[0;34m)\u001b[0m\u001b[0;34m\u001b[0m\u001b[0;34m\u001b[0m\u001b[0m\n\u001b[0m\u001b[1;32m     36\u001b[0m                 \u001b[0m_stat\u001b[0m \u001b[0;34m=\u001b[0m \u001b[0mself\u001b[0m\u001b[0;34m.\u001b[0m\u001b[0mget_statistics\u001b[0m\u001b[0;34m(\u001b[0m\u001b[0;34m)\u001b[0m\u001b[0;34m\u001b[0m\u001b[0;34m\u001b[0m\u001b[0m\n\u001b[1;32m     37\u001b[0m                 \u001b[0mmse\u001b[0m \u001b[0;34m+=\u001b[0m \u001b[0m_stat\u001b[0m\u001b[0;34m[\u001b[0m\u001b[0;36m0\u001b[0m\u001b[0;34m]\u001b[0m\u001b[0;34m\u001b[0m\u001b[0;34m\u001b[0m\u001b[0m\n",
      "\u001b[0;32m~/PycharmProjects/ML_HOMEWHORK2/src/ML_HOMEWORK2/src/core.py\u001b[0m in \u001b[0;36m__fit\u001b[0;34m(self, X, y, lr)\u001b[0m\n\u001b[1;32m     46\u001b[0m         \u001b[0mself\u001b[0m\u001b[0;34m.\u001b[0m\u001b[0my\u001b[0m \u001b[0;34m=\u001b[0m \u001b[0my\u001b[0m\u001b[0;34m\u001b[0m\u001b[0;34m\u001b[0m\u001b[0m\n\u001b[1;32m     47\u001b[0m \u001b[0;34m\u001b[0m\u001b[0m\n\u001b[0;32m---> 48\u001b[0;31m         \u001b[0mself\u001b[0m\u001b[0;34m.\u001b[0m\u001b[0m__minibatch_gd\u001b[0m\u001b[0;34m(\u001b[0m\u001b[0mlr\u001b[0m\u001b[0;34m)\u001b[0m\u001b[0;34m\u001b[0m\u001b[0;34m\u001b[0m\u001b[0m\n\u001b[0m\u001b[1;32m     49\u001b[0m \u001b[0;34m\u001b[0m\u001b[0m\n\u001b[1;32m     50\u001b[0m     \u001b[0;32mdef\u001b[0m \u001b[0mpredict\u001b[0m\u001b[0;34m(\u001b[0m\u001b[0mself\u001b[0m\u001b[0;34m,\u001b[0m \u001b[0mX\u001b[0m\u001b[0;34m)\u001b[0m\u001b[0;34m:\u001b[0m\u001b[0;34m\u001b[0m\u001b[0;34m\u001b[0m\u001b[0m\n",
      "\u001b[0;32m~/PycharmProjects/ML_HOMEWHORK2/src/ML_HOMEWORK2/src/core.py\u001b[0m in \u001b[0;36m__minibatch_gd\u001b[0;34m(self, learning_rate)\u001b[0m\n\u001b[1;32m     74\u001b[0m             \u001b[0;31m# Don't like this part. Some frameworks do it in a different way..\u001b[0m\u001b[0;34m\u001b[0m\u001b[0;34m\u001b[0m\u001b[0;34m\u001b[0m\u001b[0m\n\u001b[1;32m     75\u001b[0m             self.v += lin_p * (x_mb.T.dot(mul(error, (x_mb.dot( self.v)))) -\n\u001b[0;32m---> 76\u001b[0;31m                                mul(self.v, x_mb.T.power(2).dot(error)))  # WHO AM I, FATHER?\n\u001b[0m\u001b[1;32m     77\u001b[0m             \u001b[0;31m# self.w += lin_p * np.dot(np.transpose(x_mb), error)\u001b[0m\u001b[0;34m\u001b[0m\u001b[0;34m\u001b[0m\u001b[0;34m\u001b[0m\u001b[0m\n\u001b[1;32m     78\u001b[0m             \u001b[0mself\u001b[0m\u001b[0;34m.\u001b[0m\u001b[0mw\u001b[0m \u001b[0;34m+=\u001b[0m \u001b[0mlin_p\u001b[0m \u001b[0;34m*\u001b[0m \u001b[0mx_mb\u001b[0m\u001b[0;34m.\u001b[0m\u001b[0mT\u001b[0m\u001b[0;34m.\u001b[0m\u001b[0mdot\u001b[0m\u001b[0;34m(\u001b[0m\u001b[0merror\u001b[0m\u001b[0;34m)\u001b[0m\u001b[0;34m\u001b[0m\u001b[0;34m\u001b[0m\u001b[0m\n",
      "\u001b[0;31mKeyboardInterrupt\u001b[0m: "
     ]
    }
   ],
   "source": [
    "for f_num, fold in enumerate(data_processor.get_fold(5)):\n",
    "    print(\"fold number {}\".format(f_num))\n",
    "\n",
    "    # tr_mse, tr_loss = 0, 0\n",
    "    (X_train, X_test), (y_train, y_test) = fold\n",
    "    fm.fit(data_shape, data_processor.get_batch(batch_size, X_train, y_train), 10)\n",
    "\n",
    "\n",
    "    # Predict time\n",
    "    y_pred = fm.predict(X_test)\n",
    "    y_gt = y_test\n",
    "    r2, mse = fm.statistics.get_statistics(y_gt, y_pred)\n",
    "    print(\"TEST: MSE is: {}, R2 is: {}\".format(mse, r2))\n",
    "\n"
   ]
  }
 ],
 "metadata": {
  "kernelspec": {
   "display_name": "Python 3",
   "language": "python",
   "name": "python3"
  },
  "language_info": {
   "codemirror_mode": {
    "name": "ipython",
    "version": 3
   },
   "file_extension": ".py",
   "mimetype": "text/x-python",
   "name": "python",
   "nbconvert_exporter": "python",
   "pygments_lexer": "ipython3",
   "version": "3.6.9"
  },
  "pycharm": {
   "stem_cell": {
    "cell_type": "raw",
    "metadata": {
     "collapsed": false
    },
    "source": []
   }
  }
 },
 "nbformat": 4,
 "nbformat_minor": 1
}
