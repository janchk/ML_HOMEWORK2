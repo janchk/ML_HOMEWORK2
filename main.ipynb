{
  "nbformat": 4,
  "nbformat_minor": 0,
  "metadata": {
    "kernelspec": {
      "display_name": "Python 3",
      "language": "python",
      "name": "python3"
    },
    "language_info": {
      "codemirror_mode": {
        "name": "ipython",
        "version": 2
      },
      "file_extension": ".py",
      "mimetype": "text/x-python",
      "name": "python",
      "nbconvert_exporter": "python",
      "pygments_lexer": "ipython2",
      "version": "2.7.6"
    },
    "pycharm": {
      "stem_cell": {
        "cell_type": "raw",
        "source": [],
        "metadata": {
          "collapsed": false
        }
      }
    },
    "colab": {
      "name": "main.ipynb",
      "provenance": [],
      "toc_visible": true
    }
  },
  "cells": [
    {
      "cell_type": "code",
      "metadata": {
        "pycharm": {
          "name": "#%%\n"
        },
        "id": "TCFhPKs7GK-e",
        "colab_type": "code",
        "colab": {}
      },
      "source": [
        "!wget wget --header=\"Host: storage.googleapis.com\" --header=\"User-Agent: Mozilla/5.0 (X11; Linux x86_64) AppleWebKit/537.36 (KHTML, like Gecko) Chrome/79.0.3945.88 Safari/537.36\" --header=\"Accept: text/html,application/xhtml+xml,application/xml;q=0.9,image/webp,image/apng,*/*;q=0.8,application/signed-exchange;v=b3;q=0.9\" --header=\"Accept-Language: ru-RU,ru;q=0.9,en-US;q=0.8,en;q=0.7\" --header=\"Referer: https://www.kaggle.com/\" \"https://storage.googleapis.com/kaggle-data-sets/1636/792972/compressed/combined_data_1.txt.zip?GoogleAccessId=web-data@kaggle-161607.iam.gserviceaccount.com&Expires=1581898273&Signature=VUkbeyNlCEjI2rC2m4053SvqFEBB431KOm%2FEimeI8kEHrj9oNdmlmKXWHSnvfrt%2Bdz%2BqQww2TtOl96TshXpUKPGpGJ9e9PaoD2Dwd3S%2FcGbJ92t5CubeK1hyd5BDKNZAYwBg00MHPq52mJnONI0grT4KknFtjh23%2B3aZBTC5h4xjzLibjdf0KDY%2FTQObvu4JdjrOPq6zOBnb4TexKxcHXaWHvkbYG2wetvYTIidicW92BbFo8ZiKjdU5jwZrVWerDYM%2Fam%2Fflh%2BvDAOZbi5%2Fl53B5yBAguHEByD%2FI7OHRmC0FQcN%2Fb%2Fl3L7JiUFZTXx8d4AfTqrXNCa3mdLfxf3Hpg%3D%3D&response-content-disposition=attachment%3B+filename%3Dcombined_data_1.txt.zip\" -O \"combined_data_1.txt.zip\" -c\n",
        "!unzip combined_data_1.txt.zip\n"
      ],
      "execution_count": 0,
      "outputs": []
    },
    {
      "cell_type": "code",
      "metadata": {
        "id": "2fEhKIGWGann",
        "colab_type": "code",
        "colab": {
          "base_uri": "https://localhost:8080/",
          "height": 118
        },
        "outputId": "681e1e37-20f1-46a6-c7fa-0eb672cc0922"
      },
      "source": [
        "!git clone https://github.com/janchk/ML_HOMEWORK2.git\n",
        "from ML_HOMEWORK2.src.utils import DataProcessing \n",
        "from ML_HOMEWORK2.src.core import FactorisationMachine "
      ],
      "execution_count": 2,
      "outputs": [
        {
          "output_type": "stream",
          "text": [
            "Cloning into 'ML_HOMEWORK2'...\n",
            "remote: Enumerating objects: 74, done.\u001b[K\n",
            "remote: Counting objects: 100% (74/74), done.\u001b[K\n",
            "remote: Compressing objects: 100% (54/54), done.\u001b[K\n",
            "remote: Total 74 (delta 35), reused 51 (delta 18), pack-reused 0\u001b[K\n",
            "Unpacking objects: 100% (74/74), done.\n"
          ],
          "name": "stdout"
        }
      ]
    },
    {
      "cell_type": "code",
      "metadata": {
        "pycharm": {
          "name": "#%%\n"
        },
        "id": "Bk1gJNPtGK-p",
        "colab_type": "code",
        "colab": {}
      },
      "source": [
        "# from __future__ import print_function\n",
        "# from matplotlib import pyplot as plt\n",
        "import os\n"
      ],
      "execution_count": 0,
      "outputs": []
    },
    {
      "cell_type": "code",
      "metadata": {
        "id": "ZlzbqhXUGK-x",
        "colab_type": "code",
        "colab": {}
      },
      "source": [
        "# from src.utils import DataProcessing\n",
        "# from src.core import FactorisationMachine\n",
        "\n"
      ],
      "execution_count": 0,
      "outputs": []
    },
    {
      "cell_type": "markdown",
      "metadata": {
        "collapsed": false,
        "pycharm": {
          "name": "#%% md\n"
        },
        "id": "CeBgdhG0GK-3",
        "colab_type": "text"
      },
      "source": [
        "### Data Preprocessing"
      ]
    },
    {
      "cell_type": "code",
      "metadata": {
        "pycharm": {
          "name": "#%%\n"
        },
        "id": "R78fyLN-GK-6",
        "colab_type": "code",
        "colab": {
          "base_uri": "https://localhost:8080/",
          "height": 85
        },
        "outputId": "4ce78988-6950-4435-ee02-cd46d9fbfaf0"
      },
      "source": [
        "data_path = \"combined_data_1.txt\"\n",
        "data_processor = DataProcessing(data_path)\n",
        "batch_size = 100000\n",
        "\n",
        "processed_fname = \"processed_data.csv\"\n",
        "if not os.path.exists(processed_fname):\n",
        "    data_processor.preprocess_data()\n",
        "    data_processor.save_data('processed_data.csv')\n",
        "else:\n",
        "    data_processor.load_data(processed_fname)"
      ],
      "execution_count": 4,
      "outputs": [
        {
          "output_type": "stream",
          "text": [
            "(24058263, 3)\n",
            "4500\n",
            "Original Shape: (24053764, 4)\n",
            "After Trim Shape: (24053764, 4)\n"
          ],
          "name": "stdout"
        }
      ]
    },
    {
      "cell_type": "markdown",
      "metadata": {
        "collapsed": false,
        "id": "xjUMXKoOGK_B",
        "colab_type": "text"
      },
      "source": [
        "### Training"
      ]
    },
    {
      "cell_type": "code",
      "metadata": {
        "pycharm": {
          "name": "#%%\n"
        },
        "id": "vWzAZyBzGK_D",
        "colab_type": "code",
        "colab": {
          "base_uri": "https://localhost:8080/",
          "height": 1000
        },
        "outputId": "b1be904b-fa5f-41e9-f422-e0829d41a9d5"
      },
      "source": [
        "fm = FactorisationMachine()\n",
        "\n",
        "data_shape = data_processor.get_data_shape()\n",
        "num_epochs = 10\n",
        "\n",
        "for f_num, fold in enumerate(data_processor.get_fold(5)):\n",
        "    print(\"fold number {}\".format(f_num))\n",
        "\n",
        "    # tr_mse, tr_loss = 0, 0\n",
        "    (X_train, X_test), (y_train, y_test) = fold\n",
        "    fm.fit(data_shape, data_processor.get_batch(batch_size, X_train, y_train), num_epochs)\n",
        "\n",
        "\n",
        "    # Predict time\n",
        "    y_pred = fm.predict(X_test)\n",
        "    y_gt = y_test\n",
        "    r2, mse = fm.statistics.get_statistics(y_gt, y_pred)\n",
        "    print(\"TEST: MSE is: {}, R2 is: {}\".format(mse, r2))\n"
      ],
      "execution_count": 5,
      "outputs": [
        {
          "output_type": "stream",
          "text": [
            "fold number 0\n"
          ],
          "name": "stdout"
        },
        {
          "output_type": "stream",
          "text": [
            "Loss: 1.0744:  10%|█         | 1/10 [00:29<04:26, 29.65s/it]"
          ],
          "name": "stderr"
        },
        {
          "output_type": "stream",
          "text": [
            "\n",
            "Average R2 :-0.1342920609659788\n",
            "Average MSE : 1.135460121245772 \n"
          ],
          "name": "stdout"
        },
        {
          "output_type": "stream",
          "text": [
            "Loss: 1.0764:  20%|██        | 2/10 [00:59<03:58, 29.75s/it]"
          ],
          "name": "stderr"
        },
        {
          "output_type": "stream",
          "text": [
            "\n",
            "Average R2 :-0.04475546106360218\n",
            "Average MSE : 1.089498442963644 \n"
          ],
          "name": "stdout"
        },
        {
          "output_type": "stream",
          "text": [
            "Loss: 1.0770:  30%|███       | 3/10 [01:29<03:29, 29.88s/it]"
          ],
          "name": "stderr"
        },
        {
          "output_type": "stream",
          "text": [
            "\n",
            "Average R2 :-0.038746057828116486\n",
            "Average MSE : 1.086321810216581 \n"
          ],
          "name": "stdout"
        },
        {
          "output_type": "stream",
          "text": [
            "Loss: 1.0769:  40%|████      | 4/10 [01:59<02:58, 29.79s/it]"
          ],
          "name": "stderr"
        },
        {
          "output_type": "stream",
          "text": [
            "\n",
            "Average R2 :-0.033606731838802466\n",
            "Average MSE : 1.083870284974662 \n"
          ],
          "name": "stdout"
        },
        {
          "output_type": "stream",
          "text": [
            "Loss: 1.0768:  50%|█████     | 5/10 [02:29<02:28, 29.74s/it]"
          ],
          "name": "stderr"
        },
        {
          "output_type": "stream",
          "text": [
            "\n",
            "Average R2 :-0.028731655454052263\n",
            "Average MSE : 1.0815558177334237 \n"
          ],
          "name": "stdout"
        },
        {
          "output_type": "stream",
          "text": [
            "Loss: 1.0766:  60%|██████    | 6/10 [02:58<01:58, 29.71s/it]"
          ],
          "name": "stderr"
        },
        {
          "output_type": "stream",
          "text": [
            "\n",
            "Average R2 :-0.024208599925695767\n",
            "Average MSE : 1.0793913402952915 \n"
          ],
          "name": "stdout"
        },
        {
          "output_type": "stream",
          "text": [
            "Loss: 1.0764:  70%|███████   | 7/10 [03:28<01:28, 29.65s/it]"
          ],
          "name": "stderr"
        },
        {
          "output_type": "stream",
          "text": [
            "\n",
            "Average R2 :-0.020022847052188524\n",
            "Average MSE : 1.0773701101165487 \n"
          ],
          "name": "stdout"
        },
        {
          "output_type": "stream",
          "text": [
            "Loss: 1.0762:  80%|████████  | 8/10 [03:57<00:59, 29.60s/it]"
          ],
          "name": "stderr"
        },
        {
          "output_type": "stream",
          "text": [
            "\n",
            "Average R2 :-0.01614514943467736\n",
            "Average MSE : 1.0754814005255822 \n"
          ],
          "name": "stdout"
        },
        {
          "output_type": "stream",
          "text": [
            "Loss: 1.0760:  90%|█████████ | 9/10 [04:27<00:29, 29.58s/it]"
          ],
          "name": "stderr"
        },
        {
          "output_type": "stream",
          "text": [
            "\n",
            "Average R2 :-0.012547047005869843\n",
            "Average MSE : 1.0737146668220487 \n"
          ],
          "name": "stdout"
        },
        {
          "output_type": "stream",
          "text": [
            "Loss: 1.1573: 100%|██████████| 10/10 [04:56<00:00, 29.59s/it]\n"
          ],
          "name": "stderr"
        },
        {
          "output_type": "stream",
          "text": [
            "\n",
            "Average R2 :-0.009202704113613796\n",
            "Average MSE : 1.0720601193707464 \n",
            "TEST: MSE is: 1.0720646683137476, R2 is: -0.0006957966428271511\n",
            "fold number 1\n"
          ],
          "name": "stdout"
        },
        {
          "output_type": "stream",
          "text": [
            "Loss: 1.1285:  10%|█         | 1/10 [00:29<04:25, 29.55s/it]"
          ],
          "name": "stderr"
        },
        {
          "output_type": "stream",
          "text": [
            "\n",
            "Average R2 :-0.1337665580895193\n",
            "Average MSE : 1.134237623874402 \n"
          ],
          "name": "stdout"
        },
        {
          "output_type": "stream",
          "text": [
            "Loss: 1.1204:  20%|██        | 2/10 [01:00<03:59, 29.94s/it]"
          ],
          "name": "stderr"
        },
        {
          "output_type": "stream",
          "text": [
            "\n",
            "Average R2 :-0.04409832190013884\n",
            "Average MSE : 1.088348502588055 \n"
          ],
          "name": "stdout"
        },
        {
          "output_type": "stream",
          "text": [
            "Loss: 1.1190:  30%|███       | 3/10 [01:30<03:29, 29.99s/it]"
          ],
          "name": "stderr"
        },
        {
          "output_type": "stream",
          "text": [
            "\n",
            "Average R2 :-0.03818555720213229\n",
            "Average MSE : 1.0852689379635279 \n"
          ],
          "name": "stdout"
        },
        {
          "output_type": "stream",
          "text": [
            "Loss: 1.1181:  40%|████      | 4/10 [02:00<03:00, 30.04s/it]"
          ],
          "name": "stderr"
        },
        {
          "output_type": "stream",
          "text": [
            "\n",
            "Average R2 :-0.033236844668707334\n",
            "Average MSE : 1.0829223825437655 \n"
          ],
          "name": "stdout"
        },
        {
          "output_type": "stream",
          "text": [
            "Loss: 1.1173:  50%|█████     | 5/10 [02:30<02:30, 30.06s/it]"
          ],
          "name": "stderr"
        },
        {
          "output_type": "stream",
          "text": [
            "\n",
            "Average R2 :-0.028553157048721484\n",
            "Average MSE : 1.0807076930578805 \n"
          ],
          "name": "stdout"
        },
        {
          "output_type": "stream",
          "text": [
            "Loss: 1.1166:  60%|██████    | 6/10 [03:00<02:00, 30.04s/it]"
          ],
          "name": "stderr"
        },
        {
          "output_type": "stream",
          "text": [
            "\n",
            "Average R2 :-0.024209754768756864\n",
            "Average MSE : 1.0786365964395854 \n"
          ],
          "name": "stdout"
        },
        {
          "output_type": "stream",
          "text": [
            "Loss: 1.1158:  70%|███████   | 7/10 [03:31<01:30, 30.29s/it]"
          ],
          "name": "stderr"
        },
        {
          "output_type": "stream",
          "text": [
            "\n",
            "Average R2 :-0.02019131324155625\n",
            "Average MSE : 1.076702649219585 \n"
          ],
          "name": "stdout"
        },
        {
          "output_type": "stream",
          "text": [
            "Loss: 1.1151:  80%|████████  | 8/10 [04:02<01:01, 30.54s/it]"
          ],
          "name": "stderr"
        },
        {
          "output_type": "stream",
          "text": [
            "\n",
            "Average R2 :-0.01646947931859723\n",
            "Average MSE : 1.0748955905800157 \n"
          ],
          "name": "stdout"
        },
        {
          "output_type": "stream",
          "text": [
            "Loss: 1.1143:  90%|█████████ | 9/10 [04:34<00:30, 30.78s/it]"
          ],
          "name": "stderr"
        },
        {
          "output_type": "stream",
          "text": [
            "\n",
            "Average R2 :-0.013016785242532908\n",
            "Average MSE : 1.0732053280116 \n"
          ],
          "name": "stdout"
        },
        {
          "output_type": "stream",
          "text": [
            "Loss: 1.1575: 100%|██████████| 10/10 [05:06<00:00, 31.19s/it]\n"
          ],
          "name": "stderr"
        },
        {
          "output_type": "stream",
          "text": [
            "\n",
            "Average R2 :-0.00980830898996926\n",
            "Average MSE : 1.0716224880894754 \n",
            "TEST: MSE is: 1.07829777737566, R2 is: 0.0003097178156473701\n",
            "fold number 2\n"
          ],
          "name": "stdout"
        },
        {
          "output_type": "stream",
          "text": [
            "Loss: 1.1284:  10%|█         | 1/10 [00:31<04:39, 31.09s/it]"
          ],
          "name": "stderr"
        },
        {
          "output_type": "stream",
          "text": [
            "\n",
            "Average R2 :-0.12631881073740567\n",
            "Average MSE : 1.1320444657430666 \n"
          ],
          "name": "stdout"
        },
        {
          "output_type": "stream",
          "text": [
            "Loss: 1.1204:  20%|██        | 2/10 [01:01<04:06, 30.84s/it]"
          ],
          "name": "stderr"
        },
        {
          "output_type": "stream",
          "text": [
            "\n",
            "Average R2 :-0.03643037252842932\n",
            "Average MSE : 1.086110371974512 \n"
          ],
          "name": "stdout"
        },
        {
          "output_type": "stream",
          "text": [
            "Loss: 1.1190:  30%|███       | 3/10 [01:30<03:31, 30.25s/it]"
          ],
          "name": "stderr"
        },
        {
          "output_type": "stream",
          "text": [
            "\n",
            "Average R2 :-0.031389214927967875\n",
            "Average MSE : 1.0834611256701845 \n"
          ],
          "name": "stdout"
        },
        {
          "output_type": "stream",
          "text": [
            "Loss: 1.1181:  40%|████      | 4/10 [01:59<02:58, 29.82s/it]"
          ],
          "name": "stderr"
        },
        {
          "output_type": "stream",
          "text": [
            "\n",
            "Average R2 :-0.027326315894701175\n",
            "Average MSE : 1.081505500005059 \n"
          ],
          "name": "stdout"
        },
        {
          "output_type": "stream",
          "text": [
            "Loss: 1.1173:  50%|█████     | 5/10 [02:28<02:27, 29.54s/it]"
          ],
          "name": "stderr"
        },
        {
          "output_type": "stream",
          "text": [
            "\n",
            "Average R2 :-0.023440497254706122\n",
            "Average MSE : 1.0796414535694718 \n"
          ],
          "name": "stdout"
        },
        {
          "output_type": "stream",
          "text": [
            "Loss: 1.1166:  60%|██████    | 6/10 [02:57<01:57, 29.39s/it]"
          ],
          "name": "stderr"
        },
        {
          "output_type": "stream",
          "text": [
            "\n",
            "Average R2 :-0.019805831544848263\n",
            "Average MSE : 1.077885197689501 \n"
          ],
          "name": "stdout"
        },
        {
          "output_type": "stream",
          "text": [
            "Loss: 1.1158:  70%|███████   | 7/10 [03:26<01:28, 29.36s/it]"
          ],
          "name": "stderr"
        },
        {
          "output_type": "stream",
          "text": [
            "\n",
            "Average R2 :-0.016416107315574094\n",
            "Average MSE : 1.0762339409566768 \n"
          ],
          "name": "stdout"
        },
        {
          "output_type": "stream",
          "text": [
            "Loss: 1.1151:  80%|████████  | 8/10 [03:55<00:58, 29.18s/it]"
          ],
          "name": "stderr"
        },
        {
          "output_type": "stream",
          "text": [
            "\n",
            "Average R2 :-0.013252192118753678\n",
            "Average MSE : 1.074680670303662 \n"
          ],
          "name": "stdout"
        },
        {
          "output_type": "stream",
          "text": [
            "Loss: 1.1144:  90%|█████████ | 9/10 [04:23<00:29, 29.05s/it]"
          ],
          "name": "stderr"
        },
        {
          "output_type": "stream",
          "text": [
            "\n",
            "Average R2 :-0.010294873019565763\n",
            "Average MSE : 1.0732182295334796 \n"
          ],
          "name": "stdout"
        },
        {
          "output_type": "stream",
          "text": [
            "Loss: 1.1578: 100%|██████████| 10/10 [04:52<00:00, 29.08s/it]\n"
          ],
          "name": "stderr"
        },
        {
          "output_type": "stream",
          "text": [
            "\n",
            "Average R2 :-0.007526509492550594\n",
            "Average MSE : 1.0718399018773865 \n",
            "TEST: MSE is: 1.0881465302968276, R2 is: 0.0021697384741561354\n",
            "fold number 3\n"
          ],
          "name": "stdout"
        },
        {
          "output_type": "stream",
          "text": [
            "Loss: 1.1293:  10%|█         | 1/10 [00:29<04:19, 28.87s/it]"
          ],
          "name": "stderr"
        },
        {
          "output_type": "stream",
          "text": [
            "\n",
            "Average R2 :-0.1263698830738715\n",
            "Average MSE : 1.1287229812577575 \n"
          ],
          "name": "stdout"
        },
        {
          "output_type": "stream",
          "text": [
            "Loss: 1.1208:  20%|██        | 2/10 [00:57<03:50, 28.86s/it]"
          ],
          "name": "stderr"
        },
        {
          "output_type": "stream",
          "text": [
            "\n",
            "Average R2 :-0.03719395380683401\n",
            "Average MSE : 1.0830727562706808 \n"
          ],
          "name": "stdout"
        },
        {
          "output_type": "stream",
          "text": [
            "Loss: 1.1194:  30%|███       | 3/10 [01:26<03:21, 28.84s/it]"
          ],
          "name": "stderr"
        },
        {
          "output_type": "stream",
          "text": [
            "\n",
            "Average R2 :-0.03157547157401247\n",
            "Average MSE : 1.0801567076322385 \n"
          ],
          "name": "stdout"
        },
        {
          "output_type": "stream",
          "text": [
            "Loss: 1.1185:  40%|████      | 4/10 [01:55<02:52, 28.82s/it]"
          ],
          "name": "stderr"
        },
        {
          "output_type": "stream",
          "text": [
            "\n",
            "Average R2 :-0.0270599802136156\n",
            "Average MSE : 1.0780094165665695 \n"
          ],
          "name": "stdout"
        },
        {
          "output_type": "stream",
          "text": [
            "Loss: 1.1177:  50%|█████     | 5/10 [02:24<02:23, 28.75s/it]"
          ],
          "name": "stderr"
        },
        {
          "output_type": "stream",
          "text": [
            "\n",
            "Average R2 :-0.022796740843525194\n",
            "Average MSE : 1.0759860150960867 \n"
          ],
          "name": "stdout"
        },
        {
          "output_type": "stream",
          "text": [
            "Loss: 1.1169:  60%|██████    | 6/10 [02:52<01:54, 28.62s/it]"
          ],
          "name": "stderr"
        },
        {
          "output_type": "stream",
          "text": [
            "\n",
            "Average R2 :-0.018840818225702424\n",
            "Average MSE : 1.0740922059902884 \n"
          ],
          "name": "stdout"
        },
        {
          "output_type": "stream",
          "text": [
            "Loss: 1.1161:  70%|███████   | 7/10 [03:20<01:25, 28.60s/it]"
          ],
          "name": "stderr"
        },
        {
          "output_type": "stream",
          "text": [
            "\n",
            "Average R2 :-0.015176995829530545\n",
            "Average MSE : 1.0723216559745832 \n"
          ],
          "name": "stdout"
        },
        {
          "output_type": "stream",
          "text": [
            "Loss: 1.1154:  80%|████████  | 8/10 [03:48<00:56, 28.29s/it]"
          ],
          "name": "stderr"
        },
        {
          "output_type": "stream",
          "text": [
            "\n",
            "Average R2 :-0.011779460975680028\n",
            "Average MSE : 1.070665004671915 \n"
          ],
          "name": "stdout"
        },
        {
          "output_type": "stream",
          "text": [
            "Loss: 1.1147:  90%|█████████ | 9/10 [04:15<00:28, 28.01s/it]"
          ],
          "name": "stderr"
        },
        {
          "output_type": "stream",
          "text": [
            "\n",
            "Average R2 :-0.008623374858714939\n",
            "Average MSE : 1.069113112468142 \n"
          ],
          "name": "stdout"
        },
        {
          "output_type": "stream",
          "text": [
            "Loss: 1.1592: 100%|██████████| 10/10 [04:42<00:00, 27.74s/it]\n"
          ],
          "name": "stderr"
        },
        {
          "output_type": "stream",
          "text": [
            "\n",
            "Average R2 :-0.005686250344025478\n",
            "Average MSE : 1.0676575138321847 \n",
            "TEST: MSE is: 1.098639654334146, R2 is: 0.0033761202781517063\n",
            "fold number 4\n"
          ],
          "name": "stdout"
        },
        {
          "output_type": "stream",
          "text": [
            "Loss: 1.1294:  10%|█         | 1/10 [00:31<04:37, 30.85s/it]"
          ],
          "name": "stderr"
        },
        {
          "output_type": "stream",
          "text": [
            "\n",
            "Average R2 :-0.12454862534071871\n",
            "Average MSE : 1.1306125639337576 \n"
          ],
          "name": "stdout"
        },
        {
          "output_type": "stream",
          "text": [
            "Loss: 1.1210:  20%|██        | 2/10 [01:02<04:08, 31.01s/it]"
          ],
          "name": "stderr"
        },
        {
          "output_type": "stream",
          "text": [
            "\n",
            "Average R2 :-0.035871867513573776\n",
            "Average MSE : 1.0854058002341727 \n"
          ],
          "name": "stdout"
        },
        {
          "output_type": "stream",
          "text": [
            "Loss: 1.1195:  30%|███       | 3/10 [01:34<03:39, 31.39s/it]"
          ],
          "name": "stderr"
        },
        {
          "output_type": "stream",
          "text": [
            "\n",
            "Average R2 :-0.030697520631510714\n",
            "Average MSE : 1.082630537866004 \n"
          ],
          "name": "stdout"
        },
        {
          "output_type": "stream",
          "text": [
            "Loss: 1.1187:  40%|████      | 4/10 [02:05<03:07, 31.29s/it]"
          ],
          "name": "stderr"
        },
        {
          "output_type": "stream",
          "text": [
            "\n",
            "Average R2 :-0.026610106377906815\n",
            "Average MSE : 1.0805953490891993 \n"
          ],
          "name": "stdout"
        },
        {
          "output_type": "stream",
          "text": [
            "Loss: 1.1179:  50%|█████     | 5/10 [02:37<02:37, 31.52s/it]"
          ],
          "name": "stderr"
        },
        {
          "output_type": "stream",
          "text": [
            "\n",
            "Average R2 :-0.022723604733431907\n",
            "Average MSE : 1.0786688822727715 \n"
          ],
          "name": "stdout"
        },
        {
          "output_type": "stream",
          "text": [
            "Loss: 1.1172:  60%|██████    | 6/10 [03:09<02:06, 31.69s/it]"
          ],
          "name": "stderr"
        },
        {
          "output_type": "stream",
          "text": [
            "\n",
            "Average R2 :-0.019092762078418913\n",
            "Average MSE : 1.0768586814647787 \n"
          ],
          "name": "stdout"
        },
        {
          "output_type": "stream",
          "text": [
            "Loss: 1.1164:  70%|███████   | 7/10 [03:42<01:35, 31.96s/it]"
          ],
          "name": "stderr"
        },
        {
          "output_type": "stream",
          "text": [
            "\n",
            "Average R2 :-0.01570766549883906\n",
            "Average MSE : 1.0751596638075476 \n"
          ],
          "name": "stdout"
        },
        {
          "output_type": "stream",
          "text": [
            "Loss: 1.1157:  80%|████████  | 8/10 [04:15<01:04, 32.13s/it]"
          ],
          "name": "stderr"
        },
        {
          "output_type": "stream",
          "text": [
            "\n",
            "Average R2 :-0.012548084421824889\n",
            "Average MSE : 1.073563674632709 \n"
          ],
          "name": "stdout"
        },
        {
          "output_type": "stream",
          "text": [
            "Loss: 1.1150:  90%|█████████ | 9/10 [04:47<00:32, 32.37s/it]"
          ],
          "name": "stderr"
        },
        {
          "output_type": "stream",
          "text": [
            "\n",
            "Average R2 :-0.009594245189516034\n",
            "Average MSE : 1.072062708347163 \n"
          ],
          "name": "stdout"
        },
        {
          "output_type": "stream",
          "text": [
            "Loss: 1.0244: 100%|██████████| 10/10 [05:19<00:00, 32.24s/it]\n"
          ],
          "name": "stderr"
        },
        {
          "output_type": "stream",
          "text": [
            "\n",
            "Average R2 :-0.006828148178278016\n",
            "Average MSE : 1.0706493478553243 \n",
            "TEST: MSE is: 1.089302961681663, R2 is: 0.0011601299096221096\n"
          ],
          "name": "stdout"
        }
      ]
    }
  ]
}