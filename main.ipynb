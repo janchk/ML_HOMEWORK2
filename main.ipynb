{
 "cells": [
  {
   "cell_type": "code",
   "execution_count": null,
   "outputs": [],
   "source": [
    "# !apt install wget unzip\n",
    "# !wget wget --header=\"Host: storage.googleapis.com\" --header=\"User-Agent: Mozilla/5.0 (X11; Linux x86_64) AppleWebKit/537.36 (KHTML, like Gecko) Chrome/79.0.3945.88 Safari/537.36\" --header=\"Accept: text/html,application/xhtml+xml,application/xml;q=0.9,image/webp,image/apng,*/*;q=0.8,application/signed-exchange;v=b3;q=0.9\" --header=\"Accept-Language: ru-RU,ru;q=0.9,en-US;q=0.8,en;q=0.7\" --header=\"Referer: https://www.kaggle.com/\" \"https://storage.googleapis.com/kaggle-data-sets/1636/792972/compressed/combined_data_1.txt.zip?GoogleAccessId=web-data@kaggle-161607.iam.gserviceaccount.com&Expires=1581898273&Signature=VUkbeyNlCEjI2rC2m4053SvqFEBB431KOm%2FEimeI8kEHrj9oNdmlmKXWHSnvfrt%2Bdz%2BqQww2TtOl96TshXpUKPGpGJ9e9PaoD2Dwd3S%2FcGbJ92t5CubeK1hyd5BDKNZAYwBg00MHPq52mJnONI0grT4KknFtjh23%2B3aZBTC5h4xjzLibjdf0KDY%2FTQObvu4JdjrOPq6zOBnb4TexKxcHXaWHvkbYG2wetvYTIidicW92BbFo8ZiKjdU5jwZrVWerDYM%2Fam%2Fflh%2BvDAOZbi5%2Fl53B5yBAguHEByD%2FI7OHRmC0FQcN%2Fb%2Fl3L7JiUFZTXx8d4AfTqrXNCa3mdLfxf3Hpg%3D%3D&response-content-disposition=attachment%3B+filename%3Dcombined_data_1.txt.zip\" -O \"combined_data_1.txt.zip\" -c\n",
    "# !unzip combined_data_1.txt.zip\n",
    "# from ML_HOMEWORK2.src.utils import DataProcessing \n",
    "# from ML_HOMEWORK2.src.core import FactorisationMachine "
   ],
   "metadata": {
    "collapsed": false,
    "pycharm": {
     "name": "#%%\n"
    }
   }
  },
  {
   "cell_type": "code",
   "execution_count": null,
   "outputs": [],
   "source": [
    "# from __future__ import print_function\n",
    "# from matplotlib import pyplot as plt\n",
    "import os\n"
   ],
   "metadata": {
    "collapsed": false,
    "pycharm": {
     "name": "#%%\n"
    }
   }
  },
  {
   "cell_type": "code",
   "execution_count": null,
   "metadata": {
    "collapsed": true
   },
   "outputs": [],
   "source": [
    "from src.utils import DataProcessing\n",
    "from src.core import FactorisationMachine\n",
    "\n"
   ]
  },
  {
   "cell_type": "markdown",
   "source": [
    "### Data Preprocessing"
   ],
   "metadata": {
    "collapsed": false,
    "pycharm": {
     "name": "#%% md\n"
    }
   }
  },
  {
   "cell_type": "code",
   "execution_count": null,
   "outputs": [],
   "source": [
    "data_path = \"combined_data_1.txt\"\n",
    "data_processor = DataProcessing(data_path)\n",
    "batch_size = 100000\n",
    "\n",
    "processed_fname = \"processed_data.csv\"\n",
    "if not os.path.exists(processed_fname):\n",
    "    data_processor.preprocess_data()\n",
    "    data_processor.save_data('processed_data.csv')\n",
    "else:\n",
    "    data_processor.load_data(processed_fname)"
   ],
   "metadata": {
    "collapsed": false,
    "pycharm": {
     "name": "#%%\n"
    }
   }
  },
  {
   "cell_type": "markdown",
   "source": [
    "### Training"
   ],
   "metadata": {
    "collapsed": false
   }
  },
  {
   "cell_type": "code",
   "execution_count": null,
   "outputs": [],
   "source": [
    "fm = FactorisationMachine()\n",
    "\n",
    "data_shape = data_processor.get_data_shape()\n",
    "\n",
    "for f_num, fold in enumerate(data_processor.get_fold(5)):\n",
    "    print(\"fold number {}\".format(f_num))\n",
    "\n",
    "    # tr_mse, tr_loss = 0, 0\n",
    "    (X_train, X_test), (y_train, y_test) = fold\n",
    "    fm.fit(data_shape, data_processor.get_batch(batch_size, X_train, y_train), 10)\n",
    "\n",
    "\n",
    "    # Predict time\n",
    "    y_pred = fm.predict(X_test)\n",
    "    y_gt = y_test\n",
    "    r2, mse = fm.statistics.get_statistics(y_gt, y_pred)\n",
    "    print(\"TEST: MSE is: {}, R2 is: {}\".format(mse, r2))\n"
   ],
   "metadata": {
    "collapsed": false,
    "pycharm": {
     "name": "#%%\n"
    }
   }
  }
 ],
 "metadata": {
  "kernelspec": {
   "display_name": "Python 3",
   "language": "python",
   "name": "python3"
  },
  "language_info": {
   "codemirror_mode": {
    "name": "ipython",
    "version": 2
   },
   "file_extension": ".py",
   "mimetype": "text/x-python",
   "name": "python",
   "nbconvert_exporter": "python",
   "pygments_lexer": "ipython2",
   "version": "2.7.6"
  },
  "pycharm": {
   "stem_cell": {
    "cell_type": "raw",
    "source": [],
    "metadata": {
     "collapsed": false
    }
   }
  }
 },
 "nbformat": 4,
 "nbformat_minor": 0
}