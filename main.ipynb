{
  "nbformat": 4,
  "nbformat_minor": 0,
  "metadata": {
    "kernelspec": {
      "display_name": "Python 3",
      "language": "python",
      "name": "python3"
    },
    "language_info": {
      "codemirror_mode": {
        "name": "ipython",
        "version": 2
      },
      "file_extension": ".py",
      "mimetype": "text/x-python",
      "name": "python",
      "nbconvert_exporter": "python",
      "pygments_lexer": "ipython2",
      "version": "2.7.6"
    },
    "pycharm": {
      "stem_cell": {
        "cell_type": "raw",
        "source": [],
        "metadata": {
          "collapsed": false
        }
      }
    },
    "colab": {
      "name": "main.ipynb",
      "provenance": [],
      "toc_visible": true
    }
  },
  "cells": [
    {
      "cell_type": "code",
      "metadata": {
        "pycharm": {
          "name": "#%%\n"
        },
        "id": "TCFhPKs7GK-e",
        "colab_type": "code",
        "colab": {
          "base_uri": "https://localhost:8080/",
          "height": 375
        },
        "outputId": "afb4854c-dfc3-409b-b399-2eb4a2a025d9"
      },
      "source": [
        "!wget --header=\"Host: storage.googleapis.com\" --header=\"User-Agent: Mozilla/5.0 (X11; Linux x86_64) AppleWebKit/537.36 (KHTML, like Gecko) Chrome/80.0.3987.87 Safari/537.36\" --header=\"Accept: text/html,application/xhtml+xml,application/xml;q=0.9,image/webp,image/apng,*/*;q=0.8,application/signed-exchange;v=b3;q=0.9\" --header=\"Accept-Language: ru-RU,ru;q=0.9,en-US;q=0.8,en;q=0.7\" --header=\"Referer: https://www.kaggle.com/\" \"https://storage.googleapis.com/kaggle-data-sets/1636/792972/bundle/archive.zip?GoogleAccessId=web-data@kaggle-161607.iam.gserviceaccount.com&Expires=1583488067&Signature=D3KSWAZahw1KLACl7Eri3MKbAh7D5pdwDhg2FUX9n07ekUkNg0WIVnkAPRCZzTJ7Oa%2FPSsfB7WQptvEwr4Uis64AY3bDtwkl5zjbvsDHnI9lCOXra0o%2BMv5UNs13Es4cePizliQeQ8%2FkpSuCpsopLAA9QNyA6DQTfYpz94wOB%2FgbkdfXUszg9vK67XKsuRoz8rUYytNXl1OEdDy1PWcY95mhkCNOQhq5XB%2F8w9QuhyrsNb6gOGKrz%2FgPqxjbmXDNhTgU58%2BqJKmLgxrwsCAr6Iw3hjoLIN77CwpI7hhIBJXXjYNUky1iH7WtW%2BTkC3HoN4DD6XDBNb%2BKFwJhfF05MQ%3D%3D&response-content-disposition=attachment%3B+filename%3Dnetflix-prize-data.zip\" -O \"netflix-prize-data.zip\" -c\n",
        "!unzip netflix-prize-data.zip\n"
      ],
      "execution_count": 3,
      "outputs": [
        {
          "output_type": "stream",
          "text": [
            "--2020-03-03 09:48:39--  https://storage.googleapis.com/kaggle-data-sets/1636/792972/bundle/archive.zip?GoogleAccessId=web-data@kaggle-161607.iam.gserviceaccount.com&Expires=1583488067&Signature=D3KSWAZahw1KLACl7Eri3MKbAh7D5pdwDhg2FUX9n07ekUkNg0WIVnkAPRCZzTJ7Oa%2FPSsfB7WQptvEwr4Uis64AY3bDtwkl5zjbvsDHnI9lCOXra0o%2BMv5UNs13Es4cePizliQeQ8%2FkpSuCpsopLAA9QNyA6DQTfYpz94wOB%2FgbkdfXUszg9vK67XKsuRoz8rUYytNXl1OEdDy1PWcY95mhkCNOQhq5XB%2F8w9QuhyrsNb6gOGKrz%2FgPqxjbmXDNhTgU58%2BqJKmLgxrwsCAr6Iw3hjoLIN77CwpI7hhIBJXXjYNUky1iH7WtW%2BTkC3HoN4DD6XDBNb%2BKFwJhfF05MQ%3D%3D&response-content-disposition=attachment%3B+filename%3Dnetflix-prize-data.zip\n",
            "Resolving storage.googleapis.com (storage.googleapis.com)... 74.125.142.128, 2607:f8b0:400e:c08::80\n",
            "Connecting to storage.googleapis.com (storage.googleapis.com)|74.125.142.128|:443... connected.\n",
            "HTTP request sent, awaiting response... 200 OK\n",
            "Length: 716193814 (683M) [application/zip]\n",
            "Saving to: ‘netflix-prize-data.zip’\n",
            "\n",
            "netflix-prize-data. 100%[===================>] 683.02M  56.8MB/s    in 11s     \n",
            "\n",
            "2020-03-03 09:48:50 (62.6 MB/s) - ‘netflix-prize-data.zip’ saved [716193814/716193814]\n",
            "\n",
            "Archive:  netflix-prize-data.zip\n",
            "  inflating: README                  \n",
            "  inflating: combined_data_1.txt     \n",
            "  inflating: combined_data_2.txt     \n",
            "  inflating: combined_data_3.txt     \n",
            "  inflating: combined_data_4.txt     \n",
            "  inflating: movie_titles.csv        \n",
            "  inflating: probe.txt               \n",
            "  inflating: qualifying.txt          \n"
          ],
          "name": "stdout"
        }
      ]
    },
    {
      "cell_type": "code",
      "metadata": {
        "id": "2fEhKIGWGann",
        "colab_type": "code",
        "outputId": "759cf45e-9432-4de7-ca37-3903f4f8f569",
        "colab": {
          "base_uri": "https://localhost:8080/",
          "height": 34
        }
      },
      "source": [
        "!git clone https://github.com/janchk/ML_HOMEWORK2.git\n",
        "from ML_HOMEWORK2.src.utils import DataProcessing \n",
        "from ML_HOMEWORK2.src.core import FactorisationMachine "
      ],
      "execution_count": 2,
      "outputs": [
        {
          "output_type": "stream",
          "text": [
            "fatal: destination path 'ML_HOMEWORK2' already exists and is not an empty directory.\n"
          ],
          "name": "stdout"
        }
      ]
    },
    {
      "cell_type": "code",
      "metadata": {
        "pycharm": {
          "name": "#%%\n"
        },
        "id": "Bk1gJNPtGK-p",
        "colab_type": "code",
        "colab": {}
      },
      "source": [
        "# from __future__ import print_function\n",
        "# from matplotlib import pyplot as plt\n",
        "import os\n"
      ],
      "execution_count": 0,
      "outputs": []
    },
    {
      "cell_type": "code",
      "metadata": {
        "id": "ZlzbqhXUGK-x",
        "colab_type": "code",
        "colab": {}
      },
      "source": [
        "# from src.utils import DataProcessing\n",
        "# from src.core import FactorisationMachine\n",
        "\n"
      ],
      "execution_count": 0,
      "outputs": []
    },
    {
      "cell_type": "markdown",
      "metadata": {
        "collapsed": false,
        "pycharm": {
          "name": "#%% md\n"
        },
        "id": "CeBgdhG0GK-3",
        "colab_type": "text"
      },
      "source": [
        "### Data Preprocessing"
      ]
    },
    {
      "cell_type": "code",
      "metadata": {
        "pycharm": {
          "name": "#%%\n"
        },
        "id": "R78fyLN-GK-6",
        "colab_type": "code",
        "outputId": "a5798e28-6c95-499b-8631-4bce4b558bd8",
        "colab": {
          "base_uri": "https://localhost:8080/",
          "height": 71
        }
      },
      "source": [
        "data_path = \"combined_data_1.txt\"\n",
        "data_processor = DataProcessing(data_path)\n",
        "batch_size = 100000\n",
        "\n",
        "processed_fname = \"processed_data.csv\"\n",
        "if not os.path.exists(processed_fname):\n",
        "    data_processor.preprocess_data()\n",
        "    data_processor.save_data('processed_data.csv')\n",
        "else:\n",
        "    data_processor.load_data(processed_fname)"
      ],
      "execution_count": 4,
      "outputs": [
        {
          "output_type": "stream",
          "text": [
            "/usr/local/lib/python3.6/dist-packages/numpy/lib/arraysetops.py:568: FutureWarning: elementwise comparison failed; returning scalar instead, but in the future will perform elementwise comparison\n",
            "  mask |= (ar1 == a)\n"
          ],
          "name": "stderr"
        }
      ]
    },
    {
      "cell_type": "markdown",
      "metadata": {
        "collapsed": false,
        "id": "xjUMXKoOGK_B",
        "colab_type": "text"
      },
      "source": [
        "### Training"
      ]
    },
    {
      "cell_type": "code",
      "metadata": {
        "pycharm": {
          "name": "#%%\n"
        },
        "id": "vWzAZyBzGK_D",
        "colab_type": "code",
        "outputId": "76246ad2-dfc3-4be3-d127-1b3598d03bba",
        "colab": {
          "base_uri": "https://localhost:8080/",
          "height": 1000
        }
      },
      "source": [
        "fm = FactorisationMachine()\n",
        "fm.mb_size = 10000\n",
        "\n",
        "data_shape = data_processor.get_data_shape()\n",
        "num_epochs = 10\n",
        "\n",
        "for f_num, fold in enumerate(data_processor.get_fold(5)):\n",
        "    print(\"fold number {}\".format(f_num))\n",
        "\n",
        "    # tr_mse, tr_loss = 0, 0\n",
        "    (X_train, X_test), (y_train, y_test) = fold\n",
        "    fm.fit(data_shape, data_processor.get_batch(batch_size, X_train, y_train), num_epochs)\n",
        "\n",
        "\n",
        "    # Predict time\n",
        "    y_pred = fm.predict(X_test)\n",
        "    y_gt = y_test\n",
        "    r2, mse = fm.statistics.get_statistics(y_gt, y_pred)\n",
        "    print(\"TEST: MSE is: {}, R2 is: {}\".format(mse, r2))\n"
      ],
      "execution_count": 5,
      "outputs": [
        {
          "output_type": "stream",
          "text": [
            "fold number 0\n"
          ],
          "name": "stdout"
        },
        {
          "output_type": "stream",
          "text": [
            "Loss: 1.1384:  10%|█         | 1/10 [01:07<10:03, 67.11s/it]"
          ],
          "name": "stderr"
        },
        {
          "output_type": "stream",
          "text": [
            "\n",
            "Average R2 :-0.07546335276959491\n",
            "Average MSE : 1.1089252603628428 \n"
          ],
          "name": "stdout"
        },
        {
          "output_type": "stream",
          "text": [
            "Loss: 1.1327:  20%|██        | 2/10 [02:18<09:06, 68.36s/it]"
          ],
          "name": "stderr"
        },
        {
          "output_type": "stream",
          "text": [
            "\n",
            "Average R2 :-0.02535206707514019\n",
            "Average MSE : 1.0832848318878951 \n"
          ],
          "name": "stdout"
        },
        {
          "output_type": "stream",
          "text": [
            "Loss: 1.1304:  30%|███       | 3/10 [03:28<08:02, 68.90s/it]"
          ],
          "name": "stderr"
        },
        {
          "output_type": "stream",
          "text": [
            "\n",
            "Average R2 :-0.018381316783401328\n",
            "Average MSE : 1.0798710891644436 \n"
          ],
          "name": "stdout"
        },
        {
          "output_type": "stream",
          "text": [
            "Loss: 1.1283:  40%|████      | 4/10 [04:35<06:49, 68.25s/it]"
          ],
          "name": "stderr"
        },
        {
          "output_type": "stream",
          "text": [
            "\n",
            "Average R2 :-0.012132024114294962\n",
            "Average MSE : 1.0767773905125713 \n"
          ],
          "name": "stdout"
        },
        {
          "output_type": "stream",
          "text": [
            "Loss: 1.1263:  50%|█████     | 5/10 [05:44<05:42, 68.41s/it]"
          ],
          "name": "stderr"
        },
        {
          "output_type": "stream",
          "text": [
            "\n",
            "Average R2 :-0.006578070204313194\n",
            "Average MSE : 1.073993991586126 \n"
          ],
          "name": "stdout"
        },
        {
          "output_type": "stream",
          "text": [
            "Loss: 1.1244:  60%|██████    | 6/10 [06:52<04:33, 68.42s/it]"
          ],
          "name": "stderr"
        },
        {
          "output_type": "stream",
          "text": [
            "\n",
            "Average R2 :-0.0016223083978007067\n",
            "Average MSE : 1.0714830455518656 \n"
          ],
          "name": "stdout"
        },
        {
          "output_type": "stream",
          "text": [
            "Loss: 1.1226:  70%|███████   | 7/10 [07:59<03:23, 67.92s/it]"
          ],
          "name": "stderr"
        },
        {
          "output_type": "stream",
          "text": [
            "\n",
            "Average R2 :0.0028188996821758567\n",
            "Average MSE : 1.0692107759931997 \n"
          ],
          "name": "stdout"
        },
        {
          "output_type": "stream",
          "text": [
            "Loss: 1.1209:  80%|████████  | 8/10 [09:04<02:14, 67.03s/it]"
          ],
          "name": "stderr"
        },
        {
          "output_type": "stream",
          "text": [
            "\n",
            "Average R2 :0.006816250988578693\n",
            "Average MSE : 1.067147740300631 \n"
          ],
          "name": "stdout"
        },
        {
          "output_type": "stream",
          "text": [
            "Loss: 1.1192:  90%|█████████ | 9/10 [10:08<01:06, 66.32s/it]"
          ],
          "name": "stderr"
        },
        {
          "output_type": "stream",
          "text": [
            "\n",
            "Average R2 :0.010429590500300337\n",
            "Average MSE : 1.0652683302940844 \n"
          ],
          "name": "stdout"
        },
        {
          "output_type": "stream",
          "text": [
            "Loss: 1.1176: 100%|██████████| 10/10 [11:13<00:00, 65.84s/it]\n"
          ],
          "name": "stderr"
        },
        {
          "output_type": "stream",
          "text": [
            "\n",
            "Average R2 :0.013709676206681403\n",
            "Average MSE : 1.0635503023251973 \n",
            "TEST: MSE is: 1.0599188074286372, R2 is: 0.04813139799117949\n",
            "fold number 1\n"
          ],
          "name": "stdout"
        },
        {
          "output_type": "stream",
          "text": [
            "Loss: 1.1405:  10%|█         | 1/10 [00:51<07:42, 51.39s/it]"
          ],
          "name": "stderr"
        },
        {
          "output_type": "stream",
          "text": [
            "\n",
            "Average R2 :-0.07578693579568169\n",
            "Average MSE : 1.1089807770089604 \n"
          ],
          "name": "stdout"
        },
        {
          "output_type": "stream",
          "text": [
            "Loss: 1.1348:  20%|██        | 2/10 [01:42<06:50, 51.37s/it]"
          ],
          "name": "stderr"
        },
        {
          "output_type": "stream",
          "text": [
            "\n",
            "Average R2 :-0.02564275830244392\n",
            "Average MSE : 1.08332157247706 \n"
          ],
          "name": "stdout"
        },
        {
          "output_type": "stream",
          "text": [
            "Loss: 1.1326:  30%|███       | 3/10 [02:33<05:58, 51.17s/it]"
          ],
          "name": "stderr"
        },
        {
          "output_type": "stream",
          "text": [
            "\n",
            "Average R2 :-0.01864987163782861\n",
            "Average MSE : 1.0799059405975633 \n"
          ],
          "name": "stdout"
        },
        {
          "output_type": "stream",
          "text": [
            "Loss: 1.1305:  40%|████      | 4/10 [03:24<05:07, 51.29s/it]"
          ],
          "name": "stderr"
        },
        {
          "output_type": "stream",
          "text": [
            "\n",
            "Average R2 :-0.012382742363663947\n",
            "Average MSE : 1.0768110233290014 \n"
          ],
          "name": "stdout"
        },
        {
          "output_type": "stream",
          "text": [
            "Loss: 1.1285:  50%|█████     | 5/10 [04:17<04:17, 51.58s/it]"
          ],
          "name": "stderr"
        },
        {
          "output_type": "stream",
          "text": [
            "\n",
            "Average R2 :-0.006813968603025259\n",
            "Average MSE : 1.074026603203274 \n"
          ],
          "name": "stdout"
        },
        {
          "output_type": "stream",
          "text": [
            "Loss: 1.1265:  60%|██████    | 6/10 [05:10<03:28, 52.10s/it]"
          ],
          "name": "stderr"
        },
        {
          "output_type": "stream",
          "text": [
            "\n",
            "Average R2 :-0.0018458731025600879\n",
            "Average MSE : 1.071514800140547 \n"
          ],
          "name": "stdout"
        },
        {
          "output_type": "stream",
          "text": [
            "Loss: 1.1247:  70%|███████   | 7/10 [06:03<02:37, 52.39s/it]"
          ],
          "name": "stderr"
        },
        {
          "output_type": "stream",
          "text": [
            "\n",
            "Average R2 :0.002605606521884247\n",
            "Average MSE : 1.0692418157792842 \n"
          ],
          "name": "stdout"
        },
        {
          "output_type": "stream",
          "text": [
            "Loss: 1.1230:  80%|████████  | 8/10 [06:57<01:45, 52.75s/it]"
          ],
          "name": "stderr"
        },
        {
          "output_type": "stream",
          "text": [
            "\n",
            "Average R2 :0.006611515212747693\n",
            "Average MSE : 1.0671781884182268 \n"
          ],
          "name": "stdout"
        },
        {
          "output_type": "stream",
          "text": [
            "Loss: 1.1213:  90%|█████████ | 9/10 [07:51<00:53, 53.13s/it]"
          ],
          "name": "stderr"
        },
        {
          "output_type": "stream",
          "text": [
            "\n",
            "Average R2 :0.010231984688888153\n",
            "Average MSE : 1.0652982930762407 \n"
          ],
          "name": "stdout"
        },
        {
          "output_type": "stream",
          "text": [
            "Loss: 1.1197: 100%|██████████| 10/10 [08:45<00:00, 53.37s/it]\n"
          ],
          "name": "stderr"
        },
        {
          "output_type": "stream",
          "text": [
            "\n",
            "Average R2 :0.013518009967645963\n",
            "Average MSE : 1.0635798712420026 \n",
            "TEST: MSE is: 1.0597304233557476, R2 is: 0.048089158398453846\n",
            "fold number 2\n"
          ],
          "name": "stdout"
        },
        {
          "output_type": "stream",
          "text": [
            "Loss: 1.1421:  10%|█         | 1/10 [00:47<07:11, 48.00s/it]"
          ],
          "name": "stderr"
        },
        {
          "output_type": "stream",
          "text": [
            "\n",
            "Average R2 :-0.07557476921291785\n",
            "Average MSE : 1.1089526650156467 \n"
          ],
          "name": "stdout"
        },
        {
          "output_type": "stream",
          "text": [
            "Loss: 1.1364:  20%|██        | 2/10 [01:35<06:21, 47.70s/it]"
          ],
          "name": "stderr"
        },
        {
          "output_type": "stream",
          "text": [
            "\n",
            "Average R2 :-0.025421033765484446\n",
            "Average MSE : 1.0832945692490408 \n"
          ],
          "name": "stdout"
        },
        {
          "output_type": "stream",
          "text": [
            "Loss: 1.1341:  30%|███       | 3/10 [02:21<05:31, 47.42s/it]"
          ],
          "name": "stderr"
        },
        {
          "output_type": "stream",
          "text": [
            "\n",
            "Average R2 :-0.018441898468353108\n",
            "Average MSE : 1.0798805284894082 \n"
          ],
          "name": "stdout"
        },
        {
          "output_type": "stream",
          "text": [
            "Loss: 1.1319:  40%|████      | 4/10 [03:08<04:43, 47.27s/it]"
          ],
          "name": "stderr"
        },
        {
          "output_type": "stream",
          "text": [
            "\n",
            "Average R2 :-0.012187214465289517\n",
            "Average MSE : 1.0767872163894079 \n"
          ],
          "name": "stdout"
        },
        {
          "output_type": "stream",
          "text": [
            "Loss: 1.1299:  50%|█████     | 5/10 [03:56<03:57, 47.52s/it]"
          ],
          "name": "stderr"
        },
        {
          "output_type": "stream",
          "text": [
            "\n",
            "Average R2 :-0.0066294095653355485\n",
            "Average MSE : 1.0740043605984233 \n"
          ],
          "name": "stdout"
        },
        {
          "output_type": "stream",
          "text": [
            "Loss: 1.1279:  60%|██████    | 6/10 [04:44<03:10, 47.64s/it]"
          ],
          "name": "stderr"
        },
        {
          "output_type": "stream",
          "text": [
            "\n",
            "Average R2 :-0.0016709967742728215\n",
            "Average MSE : 1.07149406913867 \n"
          ],
          "name": "stdout"
        },
        {
          "output_type": "stream",
          "text": [
            "Loss: 1.1261:  70%|███████   | 7/10 [05:33<02:23, 47.90s/it]"
          ],
          "name": "stderr"
        },
        {
          "output_type": "stream",
          "text": [
            "\n",
            "Average R2 :0.0027719171010716446\n",
            "Average MSE : 1.0692225355627307 \n"
          ],
          "name": "stdout"
        },
        {
          "output_type": "stream",
          "text": [
            "Loss: 1.1243:  80%|████████  | 8/10 [06:21<01:36, 48.05s/it]"
          ],
          "name": "stderr"
        },
        {
          "output_type": "stream",
          "text": [
            "\n",
            "Average R2 :0.006770231155625543\n",
            "Average MSE : 1.0671602928535242 \n"
          ],
          "name": "stdout"
        },
        {
          "output_type": "stream",
          "text": [
            "Loss: 1.1226:  90%|█████████ | 9/10 [07:10<00:48, 48.26s/it]"
          ],
          "name": "stderr"
        },
        {
          "output_type": "stream",
          "text": [
            "\n",
            "Average R2 :0.010383951162375485\n",
            "Average MSE : 1.0652817131078145 \n"
          ],
          "name": "stdout"
        },
        {
          "output_type": "stream",
          "text": [
            "Loss: 1.1209: 100%|██████████| 10/10 [07:58<00:00, 48.31s/it]\n"
          ],
          "name": "stderr"
        },
        {
          "output_type": "stream",
          "text": [
            "\n",
            "Average R2 :0.013663963176431019\n",
            "Average MSE : 1.0635645369048206 \n",
            "TEST: MSE is: 1.0598461017595673, R2 is: 0.04814817047776043\n",
            "fold number 3\n"
          ],
          "name": "stdout"
        },
        {
          "output_type": "stream",
          "text": [
            "Loss: 1.1416:  10%|█         | 1/10 [00:46<06:54, 46.01s/it]"
          ],
          "name": "stderr"
        },
        {
          "output_type": "stream",
          "text": [
            "\n",
            "Average R2 :-0.07563066784933557\n",
            "Average MSE : 1.1090279721904197 \n"
          ],
          "name": "stdout"
        },
        {
          "output_type": "stream",
          "text": [
            "Loss: 1.1359:  20%|██        | 2/10 [01:32<06:10, 46.25s/it]"
          ],
          "name": "stderr"
        },
        {
          "output_type": "stream",
          "text": [
            "\n",
            "Average R2 :-0.02553471637066015\n",
            "Average MSE : 1.0833908760383641 \n"
          ],
          "name": "stdout"
        },
        {
          "output_type": "stream",
          "text": [
            "Loss: 1.1336:  30%|███       | 3/10 [02:20<05:27, 46.72s/it]"
          ],
          "name": "stderr"
        },
        {
          "output_type": "stream",
          "text": [
            "\n",
            "Average R2 :-0.018552411137240668\n",
            "Average MSE : 1.0799761096534473 \n"
          ],
          "name": "stdout"
        },
        {
          "output_type": "stream",
          "text": [
            "Loss: 1.1315:  40%|████      | 4/10 [03:08<04:41, 46.97s/it]"
          ],
          "name": "stderr"
        },
        {
          "output_type": "stream",
          "text": [
            "\n",
            "Average R2 :-0.012292797191390523\n",
            "Average MSE : 1.0768812909194976 \n"
          ],
          "name": "stdout"
        },
        {
          "output_type": "stream",
          "text": [
            "Loss: 1.1295:  50%|█████     | 5/10 [03:55<03:54, 46.95s/it]"
          ],
          "name": "stderr"
        },
        {
          "output_type": "stream",
          "text": [
            "\n",
            "Average R2 :-0.006730202275571018\n",
            "Average MSE : 1.074096884729307 \n"
          ],
          "name": "stdout"
        },
        {
          "output_type": "stream",
          "text": [
            "Loss: 1.1276:  60%|██████    | 6/10 [04:42<03:08, 47.14s/it]"
          ],
          "name": "stderr"
        },
        {
          "output_type": "stream",
          "text": [
            "\n",
            "Average R2 :-0.0017672171945352945\n",
            "Average MSE : 1.071585042524145 \n"
          ],
          "name": "stdout"
        },
        {
          "output_type": "stream",
          "text": [
            "Loss: 1.1257:  70%|███████   | 7/10 [05:29<02:21, 47.04s/it]"
          ],
          "name": "stderr"
        },
        {
          "output_type": "stream",
          "text": [
            "\n",
            "Average R2 :0.0026800241970148134\n",
            "Average MSE : 1.0693119813323169 \n"
          ],
          "name": "stdout"
        },
        {
          "output_type": "stream",
          "text": [
            "Loss: 1.1240:  80%|████████  | 8/10 [06:17<01:34, 47.36s/it]"
          ],
          "name": "stderr"
        },
        {
          "output_type": "stream",
          "text": [
            "\n",
            "Average R2 :0.006682407797444154\n",
            "Average MSE : 1.067248251448359 \n"
          ],
          "name": "stdout"
        },
        {
          "output_type": "stream",
          "text": [
            "Loss: 1.1223:  90%|█████████ | 9/10 [07:07<00:48, 48.03s/it]"
          ],
          "name": "stderr"
        },
        {
          "output_type": "stream",
          "text": [
            "\n",
            "Average R2 :0.010299935974470273\n",
            "Average MSE : 1.065368237361693 \n"
          ],
          "name": "stdout"
        },
        {
          "output_type": "stream",
          "text": [
            "Loss: 1.1207: 100%|██████████| 10/10 [07:56<00:00, 48.42s/it]\n"
          ],
          "name": "stderr"
        },
        {
          "output_type": "stream",
          "text": [
            "\n",
            "Average R2 :0.01358349843973717\n",
            "Average MSE : 1.0636496879985906 \n",
            "TEST: MSE is: 1.0594933196417473, R2 is: 0.0481230075657737\n",
            "fold number 4\n"
          ],
          "name": "stdout"
        },
        {
          "output_type": "stream",
          "text": [
            "Loss: 1.1436:  10%|█         | 1/10 [00:46<07:02, 46.95s/it]"
          ],
          "name": "stderr"
        },
        {
          "output_type": "stream",
          "text": [
            "\n",
            "Average R2 :-0.07515445522135285\n",
            "Average MSE : 1.1090955677090948 \n"
          ],
          "name": "stdout"
        },
        {
          "output_type": "stream",
          "text": [
            "Loss: 1.1377:  20%|██        | 2/10 [01:32<06:13, 46.68s/it]"
          ],
          "name": "stderr"
        },
        {
          "output_type": "stream",
          "text": [
            "\n",
            "Average R2 :-0.025071261394588196\n",
            "Average MSE : 1.083465115545388 \n"
          ],
          "name": "stdout"
        },
        {
          "output_type": "stream",
          "text": [
            "Loss: 1.1354:  30%|███       | 3/10 [02:18<05:24, 46.36s/it]"
          ],
          "name": "stderr"
        },
        {
          "output_type": "stream",
          "text": [
            "\n",
            "Average R2 :-0.018128762961804695\n",
            "Average MSE : 1.080053986348359 \n"
          ],
          "name": "stdout"
        },
        {
          "output_type": "stream",
          "text": [
            "Loss: 1.1332:  40%|████      | 4/10 [03:03<04:34, 45.80s/it]"
          ],
          "name": "stderr"
        },
        {
          "output_type": "stream",
          "text": [
            "\n",
            "Average R2 :-0.011904225091508033\n",
            "Average MSE : 1.0769629505424139 \n"
          ],
          "name": "stdout"
        },
        {
          "output_type": "stream",
          "text": [
            "Loss: 1.1312:  50%|█████     | 5/10 [03:48<03:47, 45.56s/it]"
          ],
          "name": "stderr"
        },
        {
          "output_type": "stream",
          "text": [
            "\n",
            "Average R2 :-0.006371518236248318\n",
            "Average MSE : 1.0741821193689314 \n"
          ],
          "name": "stdout"
        },
        {
          "output_type": "stream",
          "text": [
            "Loss: 1.1292:  60%|██████    | 6/10 [04:33<03:02, 45.52s/it]"
          ],
          "name": "stderr"
        },
        {
          "output_type": "stream",
          "text": [
            "\n",
            "Average R2 :-0.0014339928548050454\n",
            "Average MSE : 1.0716736023474127 \n"
          ],
          "name": "stdout"
        },
        {
          "output_type": "stream",
          "text": [
            "Loss: 1.1273:  70%|███████   | 7/10 [05:19<02:17, 45.71s/it]"
          ],
          "name": "stderr"
        },
        {
          "output_type": "stream",
          "text": [
            "\n",
            "Average R2 :0.002991552991215611\n",
            "Average MSE : 1.0694035986258652 \n"
          ],
          "name": "stdout"
        },
        {
          "output_type": "stream",
          "text": [
            "Loss: 1.1256:  80%|████████  | 8/10 [06:04<01:30, 45.46s/it]"
          ],
          "name": "stderr"
        },
        {
          "output_type": "stream",
          "text": [
            "\n",
            "Average R2 :0.006975441680735533\n",
            "Average MSE : 1.0673426543687252 \n"
          ],
          "name": "stdout"
        },
        {
          "output_type": "stream",
          "text": [
            "Loss: 1.1238:  90%|█████████ | 9/10 [06:49<00:45, 45.38s/it]"
          ],
          "name": "stderr"
        },
        {
          "output_type": "stream",
          "text": [
            "\n",
            "Average R2 :0.010577197397810068\n",
            "Average MSE : 1.0654651596903386 \n"
          ],
          "name": "stdout"
        },
        {
          "output_type": "stream",
          "text": [
            "Loss: 1.1222: 100%|██████████| 10/10 [07:35<00:00, 45.44s/it]\n"
          ],
          "name": "stderr"
        },
        {
          "output_type": "stream",
          "text": [
            "\n",
            "Average R2 :0.013847303791465934\n",
            "Average MSE : 1.063748875791536 \n",
            "TEST: MSE is: 1.0592593332297755, R2 is: 0.048237213680315416\n"
          ],
          "name": "stdout"
        }
      ]
    }
  ]
}